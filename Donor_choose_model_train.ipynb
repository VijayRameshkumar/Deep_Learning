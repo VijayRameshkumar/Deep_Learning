{
  "nbformat": 4,
  "nbformat_minor": 0,
  "metadata": {
    "colab": {
      "name": "Donor_choose_model_train.ipynb",
      "provenance": [],
      "collapsed_sections": [],
      "mount_file_id": "1LGdNb3MS2GjOYwiVRNHGwu897T8gor_H",
      "authorship_tag": "ABX9TyNo4NFNWMijUB1pULEHgFPL",
      "include_colab_link": true
    },
    "kernelspec": {
      "name": "python3",
      "display_name": "Python 3"
    }
  },
  "cells": [
    {
      "cell_type": "markdown",
      "metadata": {
        "id": "view-in-github",
        "colab_type": "text"
      },
      "source": [
        "<a href=\"https://colab.research.google.com/github/Juzz4vijay/Deep_Learning/blob/master/Donor_choose_model_train.ipynb\" target=\"_parent\"><img src=\"https://colab.research.google.com/assets/colab-badge.svg\" alt=\"Open In Colab\"/></a>"
      ]
    },
    {
      "cell_type": "code",
      "metadata": {
        "id": "d8mIA-c-90Yl",
        "outputId": "35236366-54a9-424b-afc6-d5822caac565",
        "colab": {
          "base_uri": "https://localhost:8080/",
          "height": 108
        }
      },
      "source": [
        "import pandas as pd\n",
        "import numpy as np\n",
        "from sklearn.metrics import roc_auc_score\n",
        "from sklearn.naive_bayes import MultinomialNB\n",
        "\n",
        "from sklearn.feature_extraction.text import TfidfTransformer\n",
        "from sklearn.feature_extraction.text import TfidfVectorizer\n",
        "\n",
        "from sklearn.feature_extraction.text import CountVectorizer\n",
        "from sklearn.metrics import confusion_matrix\n",
        "from sklearn import metrics\n",
        "from sklearn.metrics import roc_curve, auc\n",
        "\n",
        "import warnings\n",
        "warnings.filterwarnings(\"ignore\")\n",
        "\n",
        "%ls '/content/drive/My Drive/6_Donors_choose_NB/'"
      ],
      "execution_count": 12,
      "outputs": [
        {
          "output_type": "stream",
          "text": [
            "1_Reference_EDA.ipynb             6_Assignment_NB_Instructions.ipynb\n",
            "2_Reference_Preprocessing.ipynb   glove_vectors\n",
            "3_Reference_Vectorization.ipynb   preprocessed_data.csv\n",
            "4_Reference_Vectorization.ipynb   resources.csv\n",
            "5_Reference_SampleSolution.ipynb  train_data.csv\n"
          ],
          "name": "stdout"
        }
      ]
    },
    {
      "cell_type": "code",
      "metadata": {
        "id": "aEHzUaAh-BlD"
      },
      "source": [
        "path = '/content/drive/My Drive/6_Donors_choose_NB/'\n",
        "\n",
        "w2v = path + 'glove_vectors'\n",
        "project = path + 'train_data.csv'\n",
        "resources = path + 'resources.csv'\n",
        "pre_processed = path + 'preprocessed_data.csv'"
      ],
      "execution_count": 3,
      "outputs": []
    },
    {
      "cell_type": "code",
      "metadata": {
        "id": "zv6OvnV78skp",
        "outputId": "6fda3704-c482-4de0-81ea-e158d7f4f7f2",
        "colab": {
          "base_uri": "https://localhost:8080/",
          "height": 35
        }
      },
      "source": [
        "X = pd.read_csv(path + 'preprocessed_data.csv', nrows=50000)\n",
        "y = X['project_is_approved']\n",
        "X = X.drop(['project_is_approved'], axis=1)\n",
        "\n",
        "print(X.shape, y.shape)"
      ],
      "execution_count": 4,
      "outputs": [
        {
          "output_type": "stream",
          "text": [
            "(50000, 8) (50000,)\n"
          ],
          "name": "stdout"
        }
      ]
    },
    {
      "cell_type": "markdown",
      "metadata": {
        "id": "J0sP14ZXAhD-"
      },
      "source": [
        "## Vectorizing Categorical Features"
      ]
    },
    {
      "cell_type": "code",
      "metadata": {
        "id": "5sK5HkkKD5Ep"
      },
      "source": [
        "from sklearn.preprocessing import Normalizer\n",
        "\n",
        "def ohe_vector(feature, dataset):\n",
        "  column = str(feature) + '_vectorizer'\n",
        "  out = 'X_' + feature\n",
        "  column = CountVectorizer()\n",
        "  column.fit(dataset[feature].values)\n",
        "  print(column.get_feature_names())\n",
        "  print(\"=\"*100)\n",
        "  return column.transform(dataset[feature].values)\n",
        "\n",
        "def normalized(dataset, feature):\n",
        "  column = feature + \"_normalizer\"\n",
        "  column = Normalizer()\n",
        "  column.fit(dataset[feature].values.reshape(-1,1))\n",
        "  return column.transform(dataset['price'].values.reshape(-1,1))"
      ],
      "execution_count": null,
      "outputs": []
    },
    {
      "cell_type": "code",
      "metadata": {
        "id": "XRgzdg4zbEBz",
        "outputId": "195c510b-5438-4bbf-88a3-fa0674d9a9f2",
        "colab": {
          "base_uri": "https://localhost:8080/",
          "height": 526
        }
      },
      "source": [
        "# We are considering only the words which appeared in at least 10 documents(rows or projects).\n",
        "from sklearn.feature_extraction.text import CountVectorizer\n",
        "from sklearn.feature_extraction.text import TfidfVectorizer\n",
        "from sklearn.preprocessing import Normalizer\n",
        "from sklearn.naive_bayes import MultinomialNB\n",
        "from sklearn.model_selection import GridSearchCV\n",
        "from sklearn.pipeline import Pipeline\n",
        "\n",
        "essay = X['essay']\n",
        "\n",
        "def text_features(vector_type):\n",
        "\n",
        "  if vector_type == 'bow':\n",
        "    pipe = Pipeline([('vectorizer', CountVectorizer()), ('MNB', MultinomialNB())])\n",
        "\n",
        "  elif vector_type == 'tfidf':\n",
        "    pipe = Pipeline([('vectorizer', TfidfVectorizer()), ('MNB', MultinomialNB())])\n",
        "\n",
        "  params = {\n",
        "      'vectorizer' + '__ngram_range' : [(1,2), (1, 3), (1, 4), (1,5)],\n",
        "      'vectorizer' + '__max_features' : [3000, 4000, 5000],\n",
        "      'vectorizer' + '__min_df' : [10],\n",
        "      'MNB' + '__class_prior' : [[0.5, 0.5]]\n",
        "  }\n",
        "\n",
        "  gsc = GridSearchCV(\n",
        "          estimator = pipe,\n",
        "          param_grid = params, \n",
        "          scoring = 'roc_auc', \n",
        "          verbose = 1, \n",
        "          n_jobs = -1)\n",
        "  \n",
        "  grid_result = gsc.fit(essay, y)\n",
        "\n",
        "  print(\"\\n\", str(vector_type) + \" : \", \"\\n\")\n",
        "  best_params = grid_result.best_params_\n",
        "\n",
        "  print(best_params, \"\\n\")\n",
        "  print(grid_result.best_score_, \"\\n\")\n",
        "\n",
        "  print(\"#\"*50, \"\\n\\n\")\n",
        "\n",
        "for features in ['tfidf', 'bow']:\n",
        "  text_features(features)"
      ],
      "execution_count": null,
      "outputs": [
        {
          "output_type": "stream",
          "text": [
            "Fitting 5 folds for each of 12 candidates, totalling 60 fits\n"
          ],
          "name": "stdout"
        },
        {
          "output_type": "stream",
          "text": [
            "[Parallel(n_jobs=-1)]: Using backend LokyBackend with 2 concurrent workers.\n",
            "[Parallel(n_jobs=-1)]: Done  46 tasks      | elapsed: 38.6min\n",
            "[Parallel(n_jobs=-1)]: Done  60 out of  60 | elapsed: 54.6min finished\n"
          ],
          "name": "stderr"
        },
        {
          "output_type": "stream",
          "text": [
            "\n",
            " tfidf :  \n",
            "\n",
            "{'MNB__class_prior': [0.5, 0.5], 'vectorizer__max_features': 5000, 'vectorizer__min_df': 10, 'vectorizer__ngram_range': (1, 2)} \n",
            "\n",
            "0.6910019556715825 \n",
            "\n",
            "################################################## \n",
            "\n",
            "\n",
            "Fitting 5 folds for each of 12 candidates, totalling 60 fits\n"
          ],
          "name": "stdout"
        },
        {
          "output_type": "stream",
          "text": [
            "[Parallel(n_jobs=-1)]: Using backend LokyBackend with 2 concurrent workers.\n",
            "[Parallel(n_jobs=-1)]: Done  46 tasks      | elapsed: 38.2min\n",
            "[Parallel(n_jobs=-1)]: Done  60 out of  60 | elapsed: 54.2min finished\n"
          ],
          "name": "stderr"
        },
        {
          "output_type": "stream",
          "text": [
            "\n",
            " bow :  \n",
            "\n",
            "{'MNB__class_prior': [0.5, 0.5], 'vectorizer__max_features': 5000, 'vectorizer__min_df': 10, 'vectorizer__ngram_range': (1, 2)} \n",
            "\n",
            "0.6883219340434421 \n",
            "\n",
            "################################################## \n",
            "\n",
            "\n"
          ],
          "name": "stdout"
        }
      ]
    },
    {
      "cell_type": "markdown",
      "metadata": {
        "id": "hN_vsHj_6k-K"
      },
      "source": [
        "####```NOTE:```\n",
        "```\n",
        "\n",
        " TFIDF is the best candidate to process the text data \n",
        " \n",
        " ```"
      ]
    },
    {
      "cell_type": "code",
      "metadata": {
        "id": "ecE_4kAy8IRh",
        "outputId": "592baf7d-3441-4906-965a-7848c8a93131",
        "colab": {
          "base_uri": "https://localhost:8080/",
          "height": 273
        }
      },
      "source": [
        "# merge two sparse matrices: https://stackoverflow.com/a/19710648/4084039\n",
        "import gc\n",
        "\n",
        "school_state_ohe = ohe_vector('school_state', X).toarray()\n",
        "teacher_prefix_ohe = ohe_vector('teacher_prefix',X).toarray()\n",
        "project_grade_category_ohe = ohe_vector('project_grade_category', X).toarray()\n",
        "clean_categories_ohe = ohe_vector('clean_categories', X).toarray()\n",
        "clean_subcategories_ohe = ohe_vector('clean_subcategories', X).toarray()\n",
        "\n",
        "price_norm = normalized(X, 'price')\n",
        "no_prev_proj = normalized(X, 'teacher_number_of_previously_posted_projects')\n",
        "\n",
        "essay = X['essay']\n",
        "\n",
        "X_tr = np.column_stack((no_prev_proj, price_norm, school_state_ohe, teacher_prefix_ohe, project_grade_category_ohe, clean_categories_ohe, clean_subcategories_ohe))\n",
        "\n",
        "gc.collect()\n",
        "\n",
        "print(\"Final Data matrix\")\n",
        "print(X_tr.shape, y.shape)\n",
        "\n",
        "print(\"=\"*100)\n"
      ],
      "execution_count": null,
      "outputs": [
        {
          "output_type": "stream",
          "text": [
            "['ak', 'al', 'ar', 'az', 'ca', 'co', 'ct', 'dc', 'de', 'fl', 'ga', 'hi', 'ia', 'id', 'il', 'in', 'ks', 'ky', 'la', 'ma', 'md', 'me', 'mi', 'mn', 'mo', 'ms', 'mt', 'nc', 'nd', 'ne', 'nh', 'nj', 'nm', 'nv', 'ny', 'oh', 'ok', 'or', 'pa', 'ri', 'sc', 'sd', 'tn', 'tx', 'ut', 'va', 'vt', 'wa', 'wi', 'wv', 'wy']\n",
            "====================================================================================================\n",
            "['dr', 'mr', 'mrs', 'ms', 'teacher']\n",
            "====================================================================================================\n",
            "['grades_3_5', 'grades_6_8', 'grades_9_12', 'grades_prek_2']\n",
            "====================================================================================================\n",
            "['appliedlearning', 'care_hunger', 'health_sports', 'history_civics', 'literacy_language', 'math_science', 'music_arts', 'specialneeds', 'warmth']\n",
            "====================================================================================================\n",
            "['appliedsciences', 'care_hunger', 'charactereducation', 'civics_government', 'college_careerprep', 'communityservice', 'earlydevelopment', 'economics', 'environmentalscience', 'esl', 'extracurricular', 'financialliteracy', 'foreignlanguages', 'gym_fitness', 'health_lifescience', 'health_wellness', 'history_geography', 'literacy', 'literature_writing', 'mathematics', 'music', 'nutritioneducation', 'other', 'parentinvolvement', 'performingarts', 'socialsciences', 'specialneeds', 'teamsports', 'visualarts', 'warmth']\n",
            "====================================================================================================\n",
            "Final Data matrix\n",
            "(50000, 101) (50000,)\n",
            "====================================================================================================\n"
          ],
          "name": "stdout"
        }
      ]
    },
    {
      "cell_type": "code",
      "metadata": {
        "id": "UKQWtnBI53KV",
        "outputId": "dc5bdd84-14a2-4a64-ddb8-ad8c25aac173",
        "colab": {
          "base_uri": "https://localhost:8080/",
          "height": 326
        }
      },
      "source": [
        "from sklearn.model_selection import GridSearchCV\n",
        "from sklearn.model_selection import KFold\n",
        "from sklearn.naive_bayes import MultinomialNB\n",
        "from sklearn.model_selection import train_test_split\n",
        "\n",
        "for features in ['tfidf']:\n",
        "\n",
        "  def text_features(x):\n",
        "    if x == 'tfidf':\n",
        "      vectorizer = TfidfVectorizer(max_features = 5000, min_df = 10, ngram_range = (1, 2))\n",
        "    return vectorizer.fit_transform(essay)\n",
        "\n",
        "  data = np.column_stack((X_tr, text_features(features).toarray()))\n",
        "\n",
        "  print(data.shape, y.shape)\n",
        "\n",
        "  parameters = {\n",
        "      'alpha' : [0.00001,0.0005, 0.0001,0.005,0.001,0.05,0.01,0.1,0.5,1,5,10,50,100],\n",
        "      'class_prior' : ['None', [0.5, 0.5]]\n",
        "      }\n",
        "\n",
        "  gsc = GridSearchCV(\n",
        "          estimator = MultinomialNB(),\n",
        "          param_grid = parameters, \n",
        "          scoring = 'roc_auc', \n",
        "          verbose = 1, \n",
        "          n_jobs = -1)\n",
        "  \n",
        "  grid_result = gsc.fit(data, y)\n",
        "\n",
        "print(\"#\"*50, \"\\n\\n\")\n",
        "\n",
        "print(\"\\n\", str(features) + \" : \", \"\\n\")\n",
        "best_params = grid_result.best_params_\n",
        "\n",
        "print(best_params)\n",
        "print(grid_result.best_score_, \"\\n\")\n",
        "\n",
        "print(\"#\"*50, \"\\n\\n\")\n",
        "\n",
        "del data\n",
        "del y"
      ],
      "execution_count": null,
      "outputs": [
        {
          "output_type": "stream",
          "text": [
            "(50000, 5101) (50000,)\n",
            "Fitting 5 folds for each of 28 candidates, totalling 140 fits\n"
          ],
          "name": "stdout"
        },
        {
          "output_type": "stream",
          "text": [
            "[Parallel(n_jobs=-1)]: Using backend LokyBackend with 2 concurrent workers.\n",
            "[Parallel(n_jobs=-1)]: Done  46 tasks      | elapsed:   58.3s\n",
            "[Parallel(n_jobs=-1)]: Done 140 out of 140 | elapsed:  2.7min finished\n"
          ],
          "name": "stderr"
        },
        {
          "output_type": "stream",
          "text": [
            "################################################## \n",
            "\n",
            "\n",
            "\n",
            " tfidf :  \n",
            "\n",
            "{'alpha': 1e-05, 'class_prior': [0.5, 0.5]}\n",
            "0.6629296027793583 \n",
            "\n",
            "################################################## \n",
            "\n",
            "\n"
          ],
          "name": "stdout"
        }
      ]
    },
    {
      "cell_type": "code",
      "metadata": {
        "id": "RDcTldXOJxe6",
        "outputId": "a41b533d-89b5-4947-c84a-68d622556512",
        "colab": {
          "base_uri": "https://localhost:8080/",
          "height": 35
        }
      },
      "source": [
        "import gc\n",
        "gc.collect()\n",
        "\n",
        "X = pd.read_csv(path + 'preprocessed_data.csv', nrows=50000)\n",
        "y = X['project_is_approved']\n",
        "X = X.drop(['project_is_approved'], axis=1)\n",
        "\n",
        "print(X.shape, y.shape)"
      ],
      "execution_count": 5,
      "outputs": [
        {
          "output_type": "stream",
          "text": [
            "(50000, 8) (50000,)\n"
          ],
          "name": "stdout"
        }
      ]
    },
    {
      "cell_type": "code",
      "metadata": {
        "id": "E6XONLDXU4g1"
      },
      "source": [
        "from sklearn.model_selection import train_test_split\n",
        "\n",
        "X_train, X_test, Y_train, Y_test = train_test_split(X, y, test_size=0.33, stratify=y, random_state=0)"
      ],
      "execution_count": 6,
      "outputs": []
    },
    {
      "cell_type": "code",
      "metadata": {
        "id": "1xboW-HWKJRS"
      },
      "source": [
        "from sklearn.preprocessing import Normalizer\n",
        "\n",
        "ohe = CountVectorizer()\n",
        "ohe.fit(X_train['school_state'].values)\n",
        "school_state_ohe_train = ohe.transform(X_train['school_state'].values).toarray() # fit has to happen only on train data\n",
        "school_state_ohe_test = ohe.transform(X_test['school_state'].values).toarray()\n",
        "\n",
        "ohe = CountVectorizer()\n",
        "ohe.fit(X_train['teacher_prefix'].values)\n",
        "teacher_prefix_ohe_train = ohe.transform(X_train['teacher_prefix'].values).toarray() # fit has to happen only on train data\n",
        "teacher_prefix_ohe_test = ohe.transform(X_test['teacher_prefix'].values).toarray()\n",
        "\n",
        "ohe = CountVectorizer()\n",
        "ohe.fit(X_train['project_grade_category'].values)\n",
        "project_grade_category_ohe_train = ohe.transform(X_train['project_grade_category'].values).toarray() # fit has to happen only on train data\n",
        "project_grade_category_ohe_test = ohe.transform(X_test['project_grade_category'].values).toarray()\n",
        "\n",
        "ohe = CountVectorizer()\n",
        "ohe.fit(X_train['clean_categories'].values)\n",
        "clean_categories_ohe_train = ohe.transform(X_train['clean_categories'].values).toarray() # fit has to happen only on train data\n",
        "clean_categories_ohe_test = ohe.transform(X_test['clean_categories'].values).toarray()\n",
        "\n",
        "ohe = CountVectorizer()\n",
        "ohe.fit(X_train['clean_subcategories'].values)\n",
        "clean_subcategories_ohe_train = ohe.transform(X_train['clean_subcategories'].values).toarray() # fit has to happen only on train data\n",
        "clean_subcategories_ohe_test = ohe.transform(X_test['clean_subcategories'].values).toarray()\n",
        "\n",
        "norm = Normalizer()\n",
        "norm.fit(X_train['price'].values.reshape(-1,1))\n",
        "X_train_price_norm = norm.transform(X_train['price'].values.reshape(-1,1))\n",
        "X_test_price_norm = norm.transform(X_test['price'].values.reshape(-1,1))\n",
        "\n",
        "norm.fit(X_train['teacher_number_of_previously_posted_projects'].values.reshape(-1,1))\n",
        "X_train_no_prev_proj = norm.transform(X_train['teacher_number_of_previously_posted_projects'].values.reshape(-1,1))\n",
        "X_test_no_prev_proj = norm.transform(X_test['teacher_number_of_previously_posted_projects'].values.reshape(-1,1))"
      ],
      "execution_count": 7,
      "outputs": []
    },
    {
      "cell_type": "code",
      "metadata": {
        "id": "3iBjWIMzMEP5"
      },
      "source": [
        "# merge two sparse matrices: https://stackoverflow.com/a/19710648/4084039\n",
        "import gc\n",
        "\n",
        "X_train_essay = X_train['essay']\n",
        "X_test_essay = X_test['essay']\n",
        "\n",
        "vectorizer = TfidfVectorizer(max_features = 5000, min_df = 10, ngram_range = (1, 2))\n",
        "\n",
        "vectorizer.fit(X_train_essay)\n",
        "\n",
        "X_train_essay = vectorizer.transform(X_train_essay).toarray()\n",
        "X_test_essay = vectorizer.transform(X_test_essay).toarray()"
      ],
      "execution_count": 8,
      "outputs": []
    },
    {
      "cell_type": "code",
      "metadata": {
        "id": "80Dmvcm1exHC",
        "outputId": "916fecba-e966-43bb-f1db-5ae99200cadc",
        "colab": {
          "base_uri": "https://localhost:8080/",
          "height": 90
        }
      },
      "source": [
        "\n",
        "X_train = np.column_stack((X_train_no_prev_proj, X_train_price_norm, school_state_ohe_train, teacher_prefix_ohe_train, project_grade_category_ohe_train, clean_categories_ohe_train, clean_subcategories_ohe_train, X_train_essay))\n",
        "\n",
        "X_test = np.column_stack((X_test_no_prev_proj, X_test_price_norm, school_state_ohe_test, teacher_prefix_ohe_test, project_grade_category_ohe_test, clean_categories_ohe_test, clean_subcategories_ohe_test, X_test_essay))\n",
        "\n",
        "gc.collect()\n",
        "\n",
        "print(\"Final Data matrix\")\n",
        "print(X_train.shape, Y_train.shape)\n",
        "print(X_test.shape, Y_test.shape)\n",
        "\n",
        "print(\"=\"*100)"
      ],
      "execution_count": 9,
      "outputs": [
        {
          "output_type": "stream",
          "text": [
            "Final Data matrix\n",
            "(33500, 5101) (33500,)\n",
            "(16500, 5101) (16500,)\n",
            "====================================================================================================\n"
          ],
          "name": "stdout"
        }
      ]
    },
    {
      "cell_type": "code",
      "metadata": {
        "id": "4MenM-p-zTmA"
      },
      "source": [
        "from sklearn.metrics import roc_auc_score\n",
        "\n",
        "model = MultinomialNB(alpha = 1e-05, class_prior = [0.5, 0.5])\n",
        "\n",
        "model = model.fit(X_train, Y_train)\n",
        "\n",
        "Y_pred = model.predict(X_test)"
      ],
      "execution_count": 13,
      "outputs": []
    },
    {
      "cell_type": "code",
      "metadata": {
        "id": "nIRZ4EW_ewIu",
        "outputId": "405ac10c-9ca1-475b-d5b6-6f1f9660e191",
        "colab": {
          "base_uri": "https://localhost:8080/",
          "height": 452
        }
      },
      "source": [
        "from mlxtend.plotting import plot_confusion_matrix\n",
        "import matplotlib.pyplot as plt\n",
        "\n",
        "font = {\n",
        "    'family' : 'DejaVu Sans',\n",
        "    'weight' : 'bold',\n",
        "    'size' : '16'\n",
        "}\n",
        "\n",
        "plt.rc('font', **font)\n",
        "\n",
        "mat = confusion_matrix(Y_test, Y_pred)\n",
        "\n",
        "plot_confusion_matrix(conf_mat=mat, figsize=(7,7), show_normed=True);"
      ],
      "execution_count": 14,
      "outputs": [
        {
          "output_type": "display_data",
          "data": {
            "image/png": "[encoded data removed]",
            "text/plain": [
              "<Figure size 504x504 with 1 Axes>"
            ]
          },
          "metadata": {
            "tags": [],
            "needs_background": "light"
          }
        }
      ]
    },
    {
      "cell_type": "code",
      "metadata": {
        "id": "DVYJQhWb0Au6",
        "outputId": "53ac5f5a-e401-4418-996e-bee602256811",
        "colab": {
          "base_uri": "https://localhost:8080/",
          "height": 53
        }
      },
      "source": [
        "Y_train_pred = model.predict(X_train)\n",
        "\n",
        "print(roc_auc_score(Y_train, Y_train_pred))\n",
        "print(roc_auc_score(Y_test, Y_pred))"
      ],
      "execution_count": 15,
      "outputs": [
        {
          "output_type": "stream",
          "text": [
            "0.663869729408419\n",
            "0.6300664062188464\n"
          ],
          "name": "stdout"
        }
      ]
    },
    {
      "cell_type": "code",
      "metadata": {
        "id": "E0s32EmA0w8X",
        "outputId": "006d7bc5-adb3-4de4-d137-6eb8c1b81f3a",
        "colab": {
          "base_uri": "https://localhost:8080/",
          "height": 53
        }
      },
      "source": [
        "print(list(np.argsort(model.feature_log_prob_[0])[::-1])[:20])\n",
        "\n",
        "print(list(np.argsort(model.feature_log_prob_[1])[::-1])[:20])"
      ],
      "execution_count": 31,
      "outputs": [
        {
          "output_type": "stream",
          "text": [
            "[1, 0, 55, 66, 61, 67, 56, 58, 88, 90, 89, 64, 59, 6, 69, 97, 86, 4126, 62, 71]\n",
            "[1, 0, 55, 66, 61, 67, 56, 58, 88, 90, 89, 64, 59, 6, 86, 4126, 69, 97, 62, 60]\n"
          ],
          "name": "stdout"
        }
      ]
    },
    {
      "cell_type": "code",
      "metadata": {
        "id": "2NUKYd7O2mjN",
        "outputId": "ba81b2b2-0c74-41d1-9368-134cfa9e2afd",
        "colab": {
          "base_uri": "https://localhost:8080/",
          "height": 35
        }
      },
      "source": [
        "print(X_train_no_prev_proj.shape, X_train_price_norm.shape, school_state_ohe_train.shape, teacher_prefix_ohe_train.shape, project_grade_category_ohe_train.shape, clean_categories_ohe_train.shape, clean_subcategories_ohe_train.shape, X_train_essay.shape)\n",
        "\n",
        "val = [X_test_no_prev_proj.shape[1], X_test_price_norm.shape[1], school_state_ohe_test.shape[1], teacher_prefix_ohe_test.shape[1], project_grade_category_ohe_test.shape[1], clean_categories_ohe_test.shape[1], clean_subcategories_ohe_test.shape[1], X_test_essay.shape[1]]\n",
        "\n",
        "train = {'X_train_no_prev_proj' : '[0,0]', 'X_train_price_norm' : '[0,1]', 'school_state_ohe_train' : '[2,53]', 'teacher_prefix_ohe_train' : '[54,58]', 'project_grade_category_ohe_train' : '[59,62]', 'clean_categories_ohe_train' : '[63, 71]', 'clean_subcategories_ohe_train' : '[72,101]', 'X_train_essay' : '[102:5101]'}\n"
      ],
      "execution_count": 51,
      "outputs": [
        {
          "output_type": "stream",
          "text": [
            "(33500, 1) (33500, 1) (33500, 51) (33500, 5) (33500, 4) (33500, 9) (33500, 30) (33500, 5000)\n"
          ],
          "name": "stdout"
        }
      ]
    },
    {
      "cell_type": "code",
      "metadata": {
        "id": "g95nFm4Ql_tM",
        "outputId": "723fb514-3080-49d5-e533-9b9b8de25ea0",
        "colab": {
          "base_uri": "https://localhost:8080/",
          "height": 73
        }
      },
      "source": [
        "print('columns : ', list(train.keys())) \n",
        "\n",
        "print('ranges : ', list(train.values()))"
      ],
      "execution_count": 67,
      "outputs": [
        {
          "output_type": "stream",
          "text": [
            "columns :  ['X_train_no_prev_proj', 'X_train_price_norm', 'school_state_ohe_train', 'teacher_prefix_ohe_train', 'project_grade_category_ohe_train', 'clean_categories_ohe_train', 'clean_subcategories_ohe_train', 'X_train_essay']\n",
            "ranges :  ['[0,0]', '[0,1]', '[2,53]', '[54,58]', '[59,62]', '[63, 71]', '[72,101]', '[102:5101]']\n"
          ],
          "name": "stdout"
        }
      ]
    },
    {
      "cell_type": "markdown",
      "metadata": {
        "id": "vJ3x14xYmj3D"
      },
      "source": [
        "```\n",
        "### TOP 20 NEGATIVE CLASS PROB Features\n",
        "\n",
        "1 : 'X_test_price_norm',\n",
        "0 : 'X_train_no_prev_proj',\n",
        "55 : 'teacher_prefix_ohe_train',\n",
        "66 : 'clean_categories_ohe_train',\n",
        "61 : 'project_grade_category_ohe_train',\n",
        "67 : 'clean_categories_ohe_train',\n",
        "58 : 'teacher_prefix_ohe_train',\n",
        "88 : 'clean_subcategories_ohe_train',\n",
        "90 : 'clean_subcategories_ohe_train',\n",
        "89 : 'clean_subcategories_ohe_train',\n",
        "64 : 'clean_categories_ohe_train',\n",
        "59 : 'project_grade_category_ohe_train',\n",
        "6 : 'school_state_ohe_train',\n",
        "69 : 'clean_categories_ohe_train',\n",
        "97 : 'clean_subcategories_ohe_train',\n",
        "86 : 'clean_subcategories_ohe_train',\n",
        "4126 : 'X_train_essay',\n",
        "62 : 'project_grade_category_ohe_train',\n",
        "71 : 'clean_subcategories_ohe_train'\n",
        "```"
      ]
    },
    {
      "cell_type": "markdown",
      "metadata": {
        "id": "WhpEQJiynA5z"
      },
      "source": [
        "\n",
        "```\n",
        "### TOP 20 POSITIVE CLASS PROB Features\n",
        "\n",
        "1 : 'X_test_price_norm',\n",
        "0 : 'X_train_no_prev_proj',\n",
        "55 : 'teacher_prefix_ohe_train',\n",
        "66 : 'clean_categories_ohe_train',\n",
        "61 : 'project_grade_category_ohe_train',\n",
        "67 : 'clean_categories_ohe_train',\n",
        "58 : 'teacher_prefix_ohe_train',\n",
        "88 : 'clean_subcategories_ohe_train',\n",
        "90 : 'clean_subcategories_ohe_train',\n",
        "89 : 'clean_subcategories_ohe_train',\n",
        "64 : 'clean_categories_ohe_train',\n",
        "59 : 'project_grade_category_ohe_train',\n",
        "6 : 'school_state_ohe_train',\n",
        "86 : 'clean_subcategories_ohe_train',\n",
        "4126 : 'X_train_essay',\n",
        "69 : 'clean_categories_ohe_train',\n",
        "97 : 'clean_subcategories_ohe_train',\n",
        "62 : 'project_grade_category_ohe_train',\n",
        "71 : 'clean_subcategories_ohe_train'\n",
        "60 : 'project_grade_category_ohe_train\n",
        "```\n",
        "\n"
      ]
    }
  ]
}