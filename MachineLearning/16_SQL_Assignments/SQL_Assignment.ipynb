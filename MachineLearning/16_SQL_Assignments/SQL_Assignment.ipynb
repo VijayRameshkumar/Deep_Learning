{
  "nbformat": 4,
  "nbformat_minor": 0,
  "metadata": {
    "colab": {
      "name": "SQL Assignment.ipynb",
      "provenance": [],
      "collapsed_sections": [
        "Z_ADQl2BE_H6",
        "O4Cj0Wdz23tA",
        "jL9AmM3oE_IZ",
        "LHFSrIJlE_Ih",
        "wd3tqFxaE_Ir",
        "OnulNpiOE_Iw",
        "cTiKejUfE_I1",
        "d5mvJcHDE_I6",
        "I9CKkrWYE_I_",
        "6NP-GyTaE_JF",
        "VHwJ75_qE_JQ"
      ],
      "toc_visible": true
    },
    "kernelspec": {
      "display_name": "Python 3",
      "language": "python",
      "name": "python3"
    },
    "language_info": {
      "codemirror_mode": {
        "name": "ipython",
        "version": 3
      },
      "file_extension": ".py",
      "mimetype": "text/x-python",
      "name": "python",
      "nbconvert_exporter": "python",
      "pygments_lexer": "ipython3",
      "version": "3.8.0"
    }
  },
  "cells": [
    {
      "cell_type": "code",
      "metadata": {
        "id": "wso5pGwnE_Ht"
      },
      "source": [
        "import pandas as pd\n",
        "import sqlite3\n",
        "\n",
        "from IPython.display import display, HTML"
      ],
      "execution_count": 1,
      "outputs": []
    },
    {
      "cell_type": "code",
      "metadata": {
        "colab": {
          "base_uri": "https://localhost:8080/"
        },
        "id": "TLoJ4B6fX3M_",
        "outputId": "4679ca35-8a0b-414d-f0a5-684231d21a20"
      },
      "source": [
        "!gdown https://drive.google.com/uc?id=1O-1-L1DdNxEK6O6nG2jS31MbrMh-OnXM"
      ],
      "execution_count": 2,
      "outputs": [
        {
          "output_type": "stream",
          "text": [
            "Downloading...\n",
            "From: https://drive.google.com/uc?id=1O-1-L1DdNxEK6O6nG2jS31MbrMh-OnXM\n",
            "To: /content/Db-IMDB-Assignment.db\n",
            "\r0.00B [00:00, ?B/s]\r7.51MB [00:00, 97.7MB/s]\n"
          ],
          "name": "stdout"
        }
      ]
    },
    {
      "cell_type": "code",
      "metadata": {
        "colab": {
          "base_uri": "https://localhost:8080/",
          "height": 36
        },
        "id": "xrUl9ShkE_H0",
        "outputId": "e2180d6b-5af7-4bd1-8e85-44e3a914ab48"
      },
      "source": [
        "%load_ext sql\r\n",
        "%config SqlMagic.autocommit=True # for engines that do not support autommit\r\n",
        "\r\n",
        "%sql sqlite:///Db-IMDB-Assignment.db"
      ],
      "execution_count": 3,
      "outputs": [
        {
          "output_type": "execute_result",
          "data": {
            "application/vnd.google.colaboratory.intrinsic+json": {
              "type": "string"
            },
            "text/plain": [
              "'Connected: @Db-IMDB-Assignment.db'"
            ]
          },
          "metadata": {
            "tags": []
          },
          "execution_count": 3
        }
      ]
    },
    {
      "cell_type": "code",
      "metadata": {
        "colab": {
          "base_uri": "https://localhost:8080/"
        },
        "id": "nPiXfcRXtKkY",
        "outputId": "914f7c36-7aee-4c47-ada7-69342a3f99d9"
      },
      "source": [
        "%%time\r\n",
        "%%sql\r\n",
        "\r\n",
        "UPDATE Person SET name = RTRIM(LTRIM(name));\r\n",
        "UPDATE Person SET pid = RTRIM(LTRIM(pid));\r\n",
        "UPDATE Person SET gender = RTRIM(LTRIM(gender));\r\n",
        "\r\n",
        "UPDATE M_Cast SET pid = RTRIM(LTRIM(pid));\r\n",
        "UPDATE M_Cast SET mid = RTRIM(LTRIM(mid));\r\n",
        "\r\n",
        "UPDATE Movie SET year = REPLACE(year, \"I\", \"\");\r\n",
        "UPDATE Movie SET year = REPLACE(year, \"V\", \"\");\r\n",
        "UPDATE Movie SET year = REPLACE(year, \"X \", \"\");\r\n",
        "UPDATE Movie SET title = LTRIM(title);\r\n",
        "UPDATE Movie SET year = RTRIM(LTRIM(year));\r\n",
        "UPDATE Movie SET rating = RTRIM(LTRIM(rating));\r\n",
        "UPDATE Movie SET num_votes = RTRIM(LTRIM(num_votes));\r\n",
        "\r\n",
        "UPDATE M_Producer SET pid = RTRIM(LTRIM(pid));\r\n",
        "UPDATE M_Producer SET mid = RTRIM(LTRIM(mid));\r\n",
        "\r\n",
        "UPDATE M_Genre SET gid = RTRIM(LTRIM(gid));\r\n",
        "UPDATE M_Genre SET mid = RTRIM(LTRIM(mid));\r\n",
        "\r\n",
        "UPDATE Genre SET gid = RTRIM(LTRIM(gid));\r\n",
        "UPDATE Genre SET name = RTRIM(LTRIM(name));\r\n",
        "\r\n",
        "UPDATE M_Director SET pid = RTRIM(LTRIM(pid));\r\n",
        "UPDATE M_Director SET mid = RTRIM(LTRIM(mid));"
      ],
      "execution_count": 4,
      "outputs": [
        {
          "output_type": "stream",
          "text": [
            " * sqlite:///Db-IMDB-Assignment.db\n",
            "37566 rows affected.\n",
            "37566 rows affected.\n",
            "37566 rows affected.\n",
            "82835 rows affected.\n",
            "82835 rows affected.\n",
            "3473 rows affected.\n",
            "3473 rows affected.\n",
            "3473 rows affected.\n",
            "3473 rows affected.\n",
            "3473 rows affected.\n",
            "3473 rows affected.\n",
            "3473 rows affected.\n",
            "11749 rows affected.\n",
            "11749 rows affected.\n",
            "3473 rows affected.\n",
            "3473 rows affected.\n",
            "328 rows affected.\n",
            "328 rows affected.\n",
            "3473 rows affected.\n",
            "3473 rows affected.\n",
            "CPU times: user 176 ms, sys: 61.6 ms, total: 238 ms\n",
            "Wall time: 644 ms\n"
          ],
          "name": "stdout"
        },
        {
          "output_type": "execute_result",
          "data": {
            "text/plain": [
              "[]"
            ]
          },
          "metadata": {
            "tags": []
          },
          "execution_count": 4
        }
      ]
    },
    {
      "cell_type": "markdown",
      "metadata": {
        "id": "Z_ADQl2BE_H6"
      },
      "source": [
        "#### Overview of all tables"
      ]
    },
    {
      "cell_type": "code",
      "metadata": {
        "id": "7ZfheusYE_H7",
        "scrolled": true
      },
      "source": [
        "conn = sqlite3.connect(\"Db-IMDB-Assignment.db\")\n",
        "\n",
        "tables = pd.read_sql_query(\"SELECT NAME AS 'Table_Name' FROM sqlite_master WHERE type='table'\", conn)\n",
        "tables = tables[\"Table_Name\"].values.tolist()"
      ],
      "execution_count": 5,
      "outputs": []
    },
    {
      "cell_type": "code",
      "metadata": {
        "colab": {
          "base_uri": "https://localhost:8080/",
          "height": 1000
        },
        "id": "f3zLh5FGE_H_",
        "scrolled": true,
        "outputId": "e81cb61a-2cce-492a-8681-73072578298c"
      },
      "source": [
        "for table in tables:\n",
        "    query = \"PRAGMA TABLE_INFO({})\".format(table)\n",
        "    schema = pd.read_sql_query(query, conn)\n",
        "    print(\"Schema of\", table)\n",
        "    display(schema)\n",
        "    print(\"-\"*100)\n",
        "    print(\"\\n\")"
      ],
      "execution_count": 6,
      "outputs": [
        {
          "output_type": "stream",
          "text": [
            "Schema of Movie\n"
          ],
          "name": "stdout"
        },
        {
          "output_type": "display_data",
          "data": {
            "text/html": [
              "<div>\n",
              "<style scoped>\n",
              "    .dataframe tbody tr th:only-of-type {\n",
              "        vertical-align: middle;\n",
              "    }\n",
              "\n",
              "    .dataframe tbody tr th {\n",
              "        vertical-align: top;\n",
              "    }\n",
              "\n",
              "    .dataframe thead th {\n",
              "        text-align: right;\n",
              "    }\n",
              "</style>\n",
              "<table border=\"1\" class=\"dataframe\">\n",
              "  <thead>\n",
              "    <tr style=\"text-align: right;\">\n",
              "      <th></th>\n",
              "      <th>cid</th>\n",
              "      <th>name</th>\n",
              "      <th>type</th>\n",
              "      <th>notnull</th>\n",
              "      <th>dflt_value</th>\n",
              "      <th>pk</th>\n",
              "    </tr>\n",
              "  </thead>\n",
              "  <tbody>\n",
              "    <tr>\n",
              "      <th>0</th>\n",
              "      <td>0</td>\n",
              "      <td>index</td>\n",
              "      <td>INTEGER</td>\n",
              "      <td>0</td>\n",
              "      <td>None</td>\n",
              "      <td>0</td>\n",
              "    </tr>\n",
              "    <tr>\n",
              "      <th>1</th>\n",
              "      <td>1</td>\n",
              "      <td>MID</td>\n",
              "      <td>TEXT</td>\n",
              "      <td>0</td>\n",
              "      <td>None</td>\n",
              "      <td>0</td>\n",
              "    </tr>\n",
              "    <tr>\n",
              "      <th>2</th>\n",
              "      <td>2</td>\n",
              "      <td>title</td>\n",
              "      <td>TEXT</td>\n",
              "      <td>0</td>\n",
              "      <td>None</td>\n",
              "      <td>0</td>\n",
              "    </tr>\n",
              "    <tr>\n",
              "      <th>3</th>\n",
              "      <td>3</td>\n",
              "      <td>year</td>\n",
              "      <td>TEXT</td>\n",
              "      <td>0</td>\n",
              "      <td>None</td>\n",
              "      <td>0</td>\n",
              "    </tr>\n",
              "    <tr>\n",
              "      <th>4</th>\n",
              "      <td>4</td>\n",
              "      <td>rating</td>\n",
              "      <td>REAL</td>\n",
              "      <td>0</td>\n",
              "      <td>None</td>\n",
              "      <td>0</td>\n",
              "    </tr>\n",
              "    <tr>\n",
              "      <th>5</th>\n",
              "      <td>5</td>\n",
              "      <td>num_votes</td>\n",
              "      <td>INTEGER</td>\n",
              "      <td>0</td>\n",
              "      <td>None</td>\n",
              "      <td>0</td>\n",
              "    </tr>\n",
              "  </tbody>\n",
              "</table>\n",
              "</div>"
            ],
            "text/plain": [
              "   cid       name     type  notnull dflt_value  pk\n",
              "0    0      index  INTEGER        0       None   0\n",
              "1    1        MID     TEXT        0       None   0\n",
              "2    2      title     TEXT        0       None   0\n",
              "3    3       year     TEXT        0       None   0\n",
              "4    4     rating     REAL        0       None   0\n",
              "5    5  num_votes  INTEGER        0       None   0"
            ]
          },
          "metadata": {
            "tags": []
          }
        },
        {
          "output_type": "stream",
          "text": [
            "----------------------------------------------------------------------------------------------------\n",
            "\n",
            "\n",
            "Schema of Genre\n"
          ],
          "name": "stdout"
        },
        {
          "output_type": "display_data",
          "data": {
            "text/html": [
              "<div>\n",
              "<style scoped>\n",
              "    .dataframe tbody tr th:only-of-type {\n",
              "        vertical-align: middle;\n",
              "    }\n",
              "\n",
              "    .dataframe tbody tr th {\n",
              "        vertical-align: top;\n",
              "    }\n",
              "\n",
              "    .dataframe thead th {\n",
              "        text-align: right;\n",
              "    }\n",
              "</style>\n",
              "<table border=\"1\" class=\"dataframe\">\n",
              "  <thead>\n",
              "    <tr style=\"text-align: right;\">\n",
              "      <th></th>\n",
              "      <th>cid</th>\n",
              "      <th>name</th>\n",
              "      <th>type</th>\n",
              "      <th>notnull</th>\n",
              "      <th>dflt_value</th>\n",
              "      <th>pk</th>\n",
              "    </tr>\n",
              "  </thead>\n",
              "  <tbody>\n",
              "    <tr>\n",
              "      <th>0</th>\n",
              "      <td>0</td>\n",
              "      <td>index</td>\n",
              "      <td>INTEGER</td>\n",
              "      <td>0</td>\n",
              "      <td>None</td>\n",
              "      <td>0</td>\n",
              "    </tr>\n",
              "    <tr>\n",
              "      <th>1</th>\n",
              "      <td>1</td>\n",
              "      <td>Name</td>\n",
              "      <td>TEXT</td>\n",
              "      <td>0</td>\n",
              "      <td>None</td>\n",
              "      <td>0</td>\n",
              "    </tr>\n",
              "    <tr>\n",
              "      <th>2</th>\n",
              "      <td>2</td>\n",
              "      <td>GID</td>\n",
              "      <td>INTEGER</td>\n",
              "      <td>0</td>\n",
              "      <td>None</td>\n",
              "      <td>0</td>\n",
              "    </tr>\n",
              "  </tbody>\n",
              "</table>\n",
              "</div>"
            ],
            "text/plain": [
              "   cid   name     type  notnull dflt_value  pk\n",
              "0    0  index  INTEGER        0       None   0\n",
              "1    1   Name     TEXT        0       None   0\n",
              "2    2    GID  INTEGER        0       None   0"
            ]
          },
          "metadata": {
            "tags": []
          }
        },
        {
          "output_type": "stream",
          "text": [
            "----------------------------------------------------------------------------------------------------\n",
            "\n",
            "\n",
            "Schema of Language\n"
          ],
          "name": "stdout"
        },
        {
          "output_type": "display_data",
          "data": {
            "text/html": [
              "<div>\n",
              "<style scoped>\n",
              "    .dataframe tbody tr th:only-of-type {\n",
              "        vertical-align: middle;\n",
              "    }\n",
              "\n",
              "    .dataframe tbody tr th {\n",
              "        vertical-align: top;\n",
              "    }\n",
              "\n",
              "    .dataframe thead th {\n",
              "        text-align: right;\n",
              "    }\n",
              "</style>\n",
              "<table border=\"1\" class=\"dataframe\">\n",
              "  <thead>\n",
              "    <tr style=\"text-align: right;\">\n",
              "      <th></th>\n",
              "      <th>cid</th>\n",
              "      <th>name</th>\n",
              "      <th>type</th>\n",
              "      <th>notnull</th>\n",
              "      <th>dflt_value</th>\n",
              "      <th>pk</th>\n",
              "    </tr>\n",
              "  </thead>\n",
              "  <tbody>\n",
              "    <tr>\n",
              "      <th>0</th>\n",
              "      <td>0</td>\n",
              "      <td>index</td>\n",
              "      <td>INTEGER</td>\n",
              "      <td>0</td>\n",
              "      <td>None</td>\n",
              "      <td>0</td>\n",
              "    </tr>\n",
              "    <tr>\n",
              "      <th>1</th>\n",
              "      <td>1</td>\n",
              "      <td>Name</td>\n",
              "      <td>TEXT</td>\n",
              "      <td>0</td>\n",
              "      <td>None</td>\n",
              "      <td>0</td>\n",
              "    </tr>\n",
              "    <tr>\n",
              "      <th>2</th>\n",
              "      <td>2</td>\n",
              "      <td>LAID</td>\n",
              "      <td>INTEGER</td>\n",
              "      <td>0</td>\n",
              "      <td>None</td>\n",
              "      <td>0</td>\n",
              "    </tr>\n",
              "  </tbody>\n",
              "</table>\n",
              "</div>"
            ],
            "text/plain": [
              "   cid   name     type  notnull dflt_value  pk\n",
              "0    0  index  INTEGER        0       None   0\n",
              "1    1   Name     TEXT        0       None   0\n",
              "2    2   LAID  INTEGER        0       None   0"
            ]
          },
          "metadata": {
            "tags": []
          }
        },
        {
          "output_type": "stream",
          "text": [
            "----------------------------------------------------------------------------------------------------\n",
            "\n",
            "\n",
            "Schema of Country\n"
          ],
          "name": "stdout"
        },
        {
          "output_type": "display_data",
          "data": {
            "text/html": [
              "<div>\n",
              "<style scoped>\n",
              "    .dataframe tbody tr th:only-of-type {\n",
              "        vertical-align: middle;\n",
              "    }\n",
              "\n",
              "    .dataframe tbody tr th {\n",
              "        vertical-align: top;\n",
              "    }\n",
              "\n",
              "    .dataframe thead th {\n",
              "        text-align: right;\n",
              "    }\n",
              "</style>\n",
              "<table border=\"1\" class=\"dataframe\">\n",
              "  <thead>\n",
              "    <tr style=\"text-align: right;\">\n",
              "      <th></th>\n",
              "      <th>cid</th>\n",
              "      <th>name</th>\n",
              "      <th>type</th>\n",
              "      <th>notnull</th>\n",
              "      <th>dflt_value</th>\n",
              "      <th>pk</th>\n",
              "    </tr>\n",
              "  </thead>\n",
              "  <tbody>\n",
              "    <tr>\n",
              "      <th>0</th>\n",
              "      <td>0</td>\n",
              "      <td>index</td>\n",
              "      <td>INTEGER</td>\n",
              "      <td>0</td>\n",
              "      <td>None</td>\n",
              "      <td>0</td>\n",
              "    </tr>\n",
              "    <tr>\n",
              "      <th>1</th>\n",
              "      <td>1</td>\n",
              "      <td>Name</td>\n",
              "      <td>TEXT</td>\n",
              "      <td>0</td>\n",
              "      <td>None</td>\n",
              "      <td>0</td>\n",
              "    </tr>\n",
              "    <tr>\n",
              "      <th>2</th>\n",
              "      <td>2</td>\n",
              "      <td>CID</td>\n",
              "      <td>INTEGER</td>\n",
              "      <td>0</td>\n",
              "      <td>None</td>\n",
              "      <td>0</td>\n",
              "    </tr>\n",
              "  </tbody>\n",
              "</table>\n",
              "</div>"
            ],
            "text/plain": [
              "   cid   name     type  notnull dflt_value  pk\n",
              "0    0  index  INTEGER        0       None   0\n",
              "1    1   Name     TEXT        0       None   0\n",
              "2    2    CID  INTEGER        0       None   0"
            ]
          },
          "metadata": {
            "tags": []
          }
        },
        {
          "output_type": "stream",
          "text": [
            "----------------------------------------------------------------------------------------------------\n",
            "\n",
            "\n",
            "Schema of Location\n"
          ],
          "name": "stdout"
        },
        {
          "output_type": "display_data",
          "data": {
            "text/html": [
              "<div>\n",
              "<style scoped>\n",
              "    .dataframe tbody tr th:only-of-type {\n",
              "        vertical-align: middle;\n",
              "    }\n",
              "\n",
              "    .dataframe tbody tr th {\n",
              "        vertical-align: top;\n",
              "    }\n",
              "\n",
              "    .dataframe thead th {\n",
              "        text-align: right;\n",
              "    }\n",
              "</style>\n",
              "<table border=\"1\" class=\"dataframe\">\n",
              "  <thead>\n",
              "    <tr style=\"text-align: right;\">\n",
              "      <th></th>\n",
              "      <th>cid</th>\n",
              "      <th>name</th>\n",
              "      <th>type</th>\n",
              "      <th>notnull</th>\n",
              "      <th>dflt_value</th>\n",
              "      <th>pk</th>\n",
              "    </tr>\n",
              "  </thead>\n",
              "  <tbody>\n",
              "    <tr>\n",
              "      <th>0</th>\n",
              "      <td>0</td>\n",
              "      <td>index</td>\n",
              "      <td>INTEGER</td>\n",
              "      <td>0</td>\n",
              "      <td>None</td>\n",
              "      <td>0</td>\n",
              "    </tr>\n",
              "    <tr>\n",
              "      <th>1</th>\n",
              "      <td>1</td>\n",
              "      <td>Name</td>\n",
              "      <td>TEXT</td>\n",
              "      <td>0</td>\n",
              "      <td>None</td>\n",
              "      <td>0</td>\n",
              "    </tr>\n",
              "    <tr>\n",
              "      <th>2</th>\n",
              "      <td>2</td>\n",
              "      <td>LID</td>\n",
              "      <td>INTEGER</td>\n",
              "      <td>0</td>\n",
              "      <td>None</td>\n",
              "      <td>0</td>\n",
              "    </tr>\n",
              "  </tbody>\n",
              "</table>\n",
              "</div>"
            ],
            "text/plain": [
              "   cid   name     type  notnull dflt_value  pk\n",
              "0    0  index  INTEGER        0       None   0\n",
              "1    1   Name     TEXT        0       None   0\n",
              "2    2    LID  INTEGER        0       None   0"
            ]
          },
          "metadata": {
            "tags": []
          }
        },
        {
          "output_type": "stream",
          "text": [
            "----------------------------------------------------------------------------------------------------\n",
            "\n",
            "\n",
            "Schema of M_Location\n"
          ],
          "name": "stdout"
        },
        {
          "output_type": "display_data",
          "data": {
            "text/html": [
              "<div>\n",
              "<style scoped>\n",
              "    .dataframe tbody tr th:only-of-type {\n",
              "        vertical-align: middle;\n",
              "    }\n",
              "\n",
              "    .dataframe tbody tr th {\n",
              "        vertical-align: top;\n",
              "    }\n",
              "\n",
              "    .dataframe thead th {\n",
              "        text-align: right;\n",
              "    }\n",
              "</style>\n",
              "<table border=\"1\" class=\"dataframe\">\n",
              "  <thead>\n",
              "    <tr style=\"text-align: right;\">\n",
              "      <th></th>\n",
              "      <th>cid</th>\n",
              "      <th>name</th>\n",
              "      <th>type</th>\n",
              "      <th>notnull</th>\n",
              "      <th>dflt_value</th>\n",
              "      <th>pk</th>\n",
              "    </tr>\n",
              "  </thead>\n",
              "  <tbody>\n",
              "    <tr>\n",
              "      <th>0</th>\n",
              "      <td>0</td>\n",
              "      <td>index</td>\n",
              "      <td>INTEGER</td>\n",
              "      <td>0</td>\n",
              "      <td>None</td>\n",
              "      <td>0</td>\n",
              "    </tr>\n",
              "    <tr>\n",
              "      <th>1</th>\n",
              "      <td>1</td>\n",
              "      <td>MID</td>\n",
              "      <td>TEXT</td>\n",
              "      <td>0</td>\n",
              "      <td>None</td>\n",
              "      <td>0</td>\n",
              "    </tr>\n",
              "    <tr>\n",
              "      <th>2</th>\n",
              "      <td>2</td>\n",
              "      <td>LID</td>\n",
              "      <td>REAL</td>\n",
              "      <td>0</td>\n",
              "      <td>None</td>\n",
              "      <td>0</td>\n",
              "    </tr>\n",
              "    <tr>\n",
              "      <th>3</th>\n",
              "      <td>3</td>\n",
              "      <td>ID</td>\n",
              "      <td>INTEGER</td>\n",
              "      <td>0</td>\n",
              "      <td>None</td>\n",
              "      <td>0</td>\n",
              "    </tr>\n",
              "  </tbody>\n",
              "</table>\n",
              "</div>"
            ],
            "text/plain": [
              "   cid   name     type  notnull dflt_value  pk\n",
              "0    0  index  INTEGER        0       None   0\n",
              "1    1    MID     TEXT        0       None   0\n",
              "2    2    LID     REAL        0       None   0\n",
              "3    3     ID  INTEGER        0       None   0"
            ]
          },
          "metadata": {
            "tags": []
          }
        },
        {
          "output_type": "stream",
          "text": [
            "----------------------------------------------------------------------------------------------------\n",
            "\n",
            "\n",
            "Schema of M_Country\n"
          ],
          "name": "stdout"
        },
        {
          "output_type": "display_data",
          "data": {
            "text/html": [
              "<div>\n",
              "<style scoped>\n",
              "    .dataframe tbody tr th:only-of-type {\n",
              "        vertical-align: middle;\n",
              "    }\n",
              "\n",
              "    .dataframe tbody tr th {\n",
              "        vertical-align: top;\n",
              "    }\n",
              "\n",
              "    .dataframe thead th {\n",
              "        text-align: right;\n",
              "    }\n",
              "</style>\n",
              "<table border=\"1\" class=\"dataframe\">\n",
              "  <thead>\n",
              "    <tr style=\"text-align: right;\">\n",
              "      <th></th>\n",
              "      <th>cid</th>\n",
              "      <th>name</th>\n",
              "      <th>type</th>\n",
              "      <th>notnull</th>\n",
              "      <th>dflt_value</th>\n",
              "      <th>pk</th>\n",
              "    </tr>\n",
              "  </thead>\n",
              "  <tbody>\n",
              "    <tr>\n",
              "      <th>0</th>\n",
              "      <td>0</td>\n",
              "      <td>index</td>\n",
              "      <td>INTEGER</td>\n",
              "      <td>0</td>\n",
              "      <td>None</td>\n",
              "      <td>0</td>\n",
              "    </tr>\n",
              "    <tr>\n",
              "      <th>1</th>\n",
              "      <td>1</td>\n",
              "      <td>MID</td>\n",
              "      <td>TEXT</td>\n",
              "      <td>0</td>\n",
              "      <td>None</td>\n",
              "      <td>0</td>\n",
              "    </tr>\n",
              "    <tr>\n",
              "      <th>2</th>\n",
              "      <td>2</td>\n",
              "      <td>CID</td>\n",
              "      <td>REAL</td>\n",
              "      <td>0</td>\n",
              "      <td>None</td>\n",
              "      <td>0</td>\n",
              "    </tr>\n",
              "    <tr>\n",
              "      <th>3</th>\n",
              "      <td>3</td>\n",
              "      <td>ID</td>\n",
              "      <td>INTEGER</td>\n",
              "      <td>0</td>\n",
              "      <td>None</td>\n",
              "      <td>0</td>\n",
              "    </tr>\n",
              "  </tbody>\n",
              "</table>\n",
              "</div>"
            ],
            "text/plain": [
              "   cid   name     type  notnull dflt_value  pk\n",
              "0    0  index  INTEGER        0       None   0\n",
              "1    1    MID     TEXT        0       None   0\n",
              "2    2    CID     REAL        0       None   0\n",
              "3    3     ID  INTEGER        0       None   0"
            ]
          },
          "metadata": {
            "tags": []
          }
        },
        {
          "output_type": "stream",
          "text": [
            "----------------------------------------------------------------------------------------------------\n",
            "\n",
            "\n",
            "Schema of M_Language\n"
          ],
          "name": "stdout"
        },
        {
          "output_type": "display_data",
          "data": {
            "text/html": [
              "<div>\n",
              "<style scoped>\n",
              "    .dataframe tbody tr th:only-of-type {\n",
              "        vertical-align: middle;\n",
              "    }\n",
              "\n",
              "    .dataframe tbody tr th {\n",
              "        vertical-align: top;\n",
              "    }\n",
              "\n",
              "    .dataframe thead th {\n",
              "        text-align: right;\n",
              "    }\n",
              "</style>\n",
              "<table border=\"1\" class=\"dataframe\">\n",
              "  <thead>\n",
              "    <tr style=\"text-align: right;\">\n",
              "      <th></th>\n",
              "      <th>cid</th>\n",
              "      <th>name</th>\n",
              "      <th>type</th>\n",
              "      <th>notnull</th>\n",
              "      <th>dflt_value</th>\n",
              "      <th>pk</th>\n",
              "    </tr>\n",
              "  </thead>\n",
              "  <tbody>\n",
              "    <tr>\n",
              "      <th>0</th>\n",
              "      <td>0</td>\n",
              "      <td>index</td>\n",
              "      <td>INTEGER</td>\n",
              "      <td>0</td>\n",
              "      <td>None</td>\n",
              "      <td>0</td>\n",
              "    </tr>\n",
              "    <tr>\n",
              "      <th>1</th>\n",
              "      <td>1</td>\n",
              "      <td>MID</td>\n",
              "      <td>TEXT</td>\n",
              "      <td>0</td>\n",
              "      <td>None</td>\n",
              "      <td>0</td>\n",
              "    </tr>\n",
              "    <tr>\n",
              "      <th>2</th>\n",
              "      <td>2</td>\n",
              "      <td>LAID</td>\n",
              "      <td>INTEGER</td>\n",
              "      <td>0</td>\n",
              "      <td>None</td>\n",
              "      <td>0</td>\n",
              "    </tr>\n",
              "    <tr>\n",
              "      <th>3</th>\n",
              "      <td>3</td>\n",
              "      <td>ID</td>\n",
              "      <td>INTEGER</td>\n",
              "      <td>0</td>\n",
              "      <td>None</td>\n",
              "      <td>0</td>\n",
              "    </tr>\n",
              "  </tbody>\n",
              "</table>\n",
              "</div>"
            ],
            "text/plain": [
              "   cid   name     type  notnull dflt_value  pk\n",
              "0    0  index  INTEGER        0       None   0\n",
              "1    1    MID     TEXT        0       None   0\n",
              "2    2   LAID  INTEGER        0       None   0\n",
              "3    3     ID  INTEGER        0       None   0"
            ]
          },
          "metadata": {
            "tags": []
          }
        },
        {
          "output_type": "stream",
          "text": [
            "----------------------------------------------------------------------------------------------------\n",
            "\n",
            "\n",
            "Schema of M_Genre\n"
          ],
          "name": "stdout"
        },
        {
          "output_type": "display_data",
          "data": {
            "text/html": [
              "<div>\n",
              "<style scoped>\n",
              "    .dataframe tbody tr th:only-of-type {\n",
              "        vertical-align: middle;\n",
              "    }\n",
              "\n",
              "    .dataframe tbody tr th {\n",
              "        vertical-align: top;\n",
              "    }\n",
              "\n",
              "    .dataframe thead th {\n",
              "        text-align: right;\n",
              "    }\n",
              "</style>\n",
              "<table border=\"1\" class=\"dataframe\">\n",
              "  <thead>\n",
              "    <tr style=\"text-align: right;\">\n",
              "      <th></th>\n",
              "      <th>cid</th>\n",
              "      <th>name</th>\n",
              "      <th>type</th>\n",
              "      <th>notnull</th>\n",
              "      <th>dflt_value</th>\n",
              "      <th>pk</th>\n",
              "    </tr>\n",
              "  </thead>\n",
              "  <tbody>\n",
              "    <tr>\n",
              "      <th>0</th>\n",
              "      <td>0</td>\n",
              "      <td>index</td>\n",
              "      <td>INTEGER</td>\n",
              "      <td>0</td>\n",
              "      <td>None</td>\n",
              "      <td>0</td>\n",
              "    </tr>\n",
              "    <tr>\n",
              "      <th>1</th>\n",
              "      <td>1</td>\n",
              "      <td>MID</td>\n",
              "      <td>TEXT</td>\n",
              "      <td>0</td>\n",
              "      <td>None</td>\n",
              "      <td>0</td>\n",
              "    </tr>\n",
              "    <tr>\n",
              "      <th>2</th>\n",
              "      <td>2</td>\n",
              "      <td>GID</td>\n",
              "      <td>INTEGER</td>\n",
              "      <td>0</td>\n",
              "      <td>None</td>\n",
              "      <td>0</td>\n",
              "    </tr>\n",
              "    <tr>\n",
              "      <th>3</th>\n",
              "      <td>3</td>\n",
              "      <td>ID</td>\n",
              "      <td>INTEGER</td>\n",
              "      <td>0</td>\n",
              "      <td>None</td>\n",
              "      <td>0</td>\n",
              "    </tr>\n",
              "  </tbody>\n",
              "</table>\n",
              "</div>"
            ],
            "text/plain": [
              "   cid   name     type  notnull dflt_value  pk\n",
              "0    0  index  INTEGER        0       None   0\n",
              "1    1    MID     TEXT        0       None   0\n",
              "2    2    GID  INTEGER        0       None   0\n",
              "3    3     ID  INTEGER        0       None   0"
            ]
          },
          "metadata": {
            "tags": []
          }
        },
        {
          "output_type": "stream",
          "text": [
            "----------------------------------------------------------------------------------------------------\n",
            "\n",
            "\n",
            "Schema of Person\n"
          ],
          "name": "stdout"
        },
        {
          "output_type": "display_data",
          "data": {
            "text/html": [
              "<div>\n",
              "<style scoped>\n",
              "    .dataframe tbody tr th:only-of-type {\n",
              "        vertical-align: middle;\n",
              "    }\n",
              "\n",
              "    .dataframe tbody tr th {\n",
              "        vertical-align: top;\n",
              "    }\n",
              "\n",
              "    .dataframe thead th {\n",
              "        text-align: right;\n",
              "    }\n",
              "</style>\n",
              "<table border=\"1\" class=\"dataframe\">\n",
              "  <thead>\n",
              "    <tr style=\"text-align: right;\">\n",
              "      <th></th>\n",
              "      <th>cid</th>\n",
              "      <th>name</th>\n",
              "      <th>type</th>\n",
              "      <th>notnull</th>\n",
              "      <th>dflt_value</th>\n",
              "      <th>pk</th>\n",
              "    </tr>\n",
              "  </thead>\n",
              "  <tbody>\n",
              "    <tr>\n",
              "      <th>0</th>\n",
              "      <td>0</td>\n",
              "      <td>index</td>\n",
              "      <td>INTEGER</td>\n",
              "      <td>0</td>\n",
              "      <td>None</td>\n",
              "      <td>0</td>\n",
              "    </tr>\n",
              "    <tr>\n",
              "      <th>1</th>\n",
              "      <td>1</td>\n",
              "      <td>PID</td>\n",
              "      <td>TEXT</td>\n",
              "      <td>0</td>\n",
              "      <td>None</td>\n",
              "      <td>0</td>\n",
              "    </tr>\n",
              "    <tr>\n",
              "      <th>2</th>\n",
              "      <td>2</td>\n",
              "      <td>Name</td>\n",
              "      <td>TEXT</td>\n",
              "      <td>0</td>\n",
              "      <td>None</td>\n",
              "      <td>0</td>\n",
              "    </tr>\n",
              "    <tr>\n",
              "      <th>3</th>\n",
              "      <td>3</td>\n",
              "      <td>Gender</td>\n",
              "      <td>TEXT</td>\n",
              "      <td>0</td>\n",
              "      <td>None</td>\n",
              "      <td>0</td>\n",
              "    </tr>\n",
              "  </tbody>\n",
              "</table>\n",
              "</div>"
            ],
            "text/plain": [
              "   cid    name     type  notnull dflt_value  pk\n",
              "0    0   index  INTEGER        0       None   0\n",
              "1    1     PID     TEXT        0       None   0\n",
              "2    2    Name     TEXT        0       None   0\n",
              "3    3  Gender     TEXT        0       None   0"
            ]
          },
          "metadata": {
            "tags": []
          }
        },
        {
          "output_type": "stream",
          "text": [
            "----------------------------------------------------------------------------------------------------\n",
            "\n",
            "\n",
            "Schema of M_Producer\n"
          ],
          "name": "stdout"
        },
        {
          "output_type": "display_data",
          "data": {
            "text/html": [
              "<div>\n",
              "<style scoped>\n",
              "    .dataframe tbody tr th:only-of-type {\n",
              "        vertical-align: middle;\n",
              "    }\n",
              "\n",
              "    .dataframe tbody tr th {\n",
              "        vertical-align: top;\n",
              "    }\n",
              "\n",
              "    .dataframe thead th {\n",
              "        text-align: right;\n",
              "    }\n",
              "</style>\n",
              "<table border=\"1\" class=\"dataframe\">\n",
              "  <thead>\n",
              "    <tr style=\"text-align: right;\">\n",
              "      <th></th>\n",
              "      <th>cid</th>\n",
              "      <th>name</th>\n",
              "      <th>type</th>\n",
              "      <th>notnull</th>\n",
              "      <th>dflt_value</th>\n",
              "      <th>pk</th>\n",
              "    </tr>\n",
              "  </thead>\n",
              "  <tbody>\n",
              "    <tr>\n",
              "      <th>0</th>\n",
              "      <td>0</td>\n",
              "      <td>index</td>\n",
              "      <td>INTEGER</td>\n",
              "      <td>0</td>\n",
              "      <td>None</td>\n",
              "      <td>0</td>\n",
              "    </tr>\n",
              "    <tr>\n",
              "      <th>1</th>\n",
              "      <td>1</td>\n",
              "      <td>MID</td>\n",
              "      <td>TEXT</td>\n",
              "      <td>0</td>\n",
              "      <td>None</td>\n",
              "      <td>0</td>\n",
              "    </tr>\n",
              "    <tr>\n",
              "      <th>2</th>\n",
              "      <td>2</td>\n",
              "      <td>PID</td>\n",
              "      <td>TEXT</td>\n",
              "      <td>0</td>\n",
              "      <td>None</td>\n",
              "      <td>0</td>\n",
              "    </tr>\n",
              "    <tr>\n",
              "      <th>3</th>\n",
              "      <td>3</td>\n",
              "      <td>ID</td>\n",
              "      <td>INTEGER</td>\n",
              "      <td>0</td>\n",
              "      <td>None</td>\n",
              "      <td>0</td>\n",
              "    </tr>\n",
              "  </tbody>\n",
              "</table>\n",
              "</div>"
            ],
            "text/plain": [
              "   cid   name     type  notnull dflt_value  pk\n",
              "0    0  index  INTEGER        0       None   0\n",
              "1    1    MID     TEXT        0       None   0\n",
              "2    2    PID     TEXT        0       None   0\n",
              "3    3     ID  INTEGER        0       None   0"
            ]
          },
          "metadata": {
            "tags": []
          }
        },
        {
          "output_type": "stream",
          "text": [
            "----------------------------------------------------------------------------------------------------\n",
            "\n",
            "\n",
            "Schema of M_Director\n"
          ],
          "name": "stdout"
        },
        {
          "output_type": "display_data",
          "data": {
            "text/html": [
              "<div>\n",
              "<style scoped>\n",
              "    .dataframe tbody tr th:only-of-type {\n",
              "        vertical-align: middle;\n",
              "    }\n",
              "\n",
              "    .dataframe tbody tr th {\n",
              "        vertical-align: top;\n",
              "    }\n",
              "\n",
              "    .dataframe thead th {\n",
              "        text-align: right;\n",
              "    }\n",
              "</style>\n",
              "<table border=\"1\" class=\"dataframe\">\n",
              "  <thead>\n",
              "    <tr style=\"text-align: right;\">\n",
              "      <th></th>\n",
              "      <th>cid</th>\n",
              "      <th>name</th>\n",
              "      <th>type</th>\n",
              "      <th>notnull</th>\n",
              "      <th>dflt_value</th>\n",
              "      <th>pk</th>\n",
              "    </tr>\n",
              "  </thead>\n",
              "  <tbody>\n",
              "    <tr>\n",
              "      <th>0</th>\n",
              "      <td>0</td>\n",
              "      <td>index</td>\n",
              "      <td>INTEGER</td>\n",
              "      <td>0</td>\n",
              "      <td>None</td>\n",
              "      <td>0</td>\n",
              "    </tr>\n",
              "    <tr>\n",
              "      <th>1</th>\n",
              "      <td>1</td>\n",
              "      <td>MID</td>\n",
              "      <td>TEXT</td>\n",
              "      <td>0</td>\n",
              "      <td>None</td>\n",
              "      <td>0</td>\n",
              "    </tr>\n",
              "    <tr>\n",
              "      <th>2</th>\n",
              "      <td>2</td>\n",
              "      <td>PID</td>\n",
              "      <td>TEXT</td>\n",
              "      <td>0</td>\n",
              "      <td>None</td>\n",
              "      <td>0</td>\n",
              "    </tr>\n",
              "    <tr>\n",
              "      <th>3</th>\n",
              "      <td>3</td>\n",
              "      <td>ID</td>\n",
              "      <td>INTEGER</td>\n",
              "      <td>0</td>\n",
              "      <td>None</td>\n",
              "      <td>0</td>\n",
              "    </tr>\n",
              "  </tbody>\n",
              "</table>\n",
              "</div>"
            ],
            "text/plain": [
              "   cid   name     type  notnull dflt_value  pk\n",
              "0    0  index  INTEGER        0       None   0\n",
              "1    1    MID     TEXT        0       None   0\n",
              "2    2    PID     TEXT        0       None   0\n",
              "3    3     ID  INTEGER        0       None   0"
            ]
          },
          "metadata": {
            "tags": []
          }
        },
        {
          "output_type": "stream",
          "text": [
            "----------------------------------------------------------------------------------------------------\n",
            "\n",
            "\n",
            "Schema of M_Cast\n"
          ],
          "name": "stdout"
        },
        {
          "output_type": "display_data",
          "data": {
            "text/html": [
              "<div>\n",
              "<style scoped>\n",
              "    .dataframe tbody tr th:only-of-type {\n",
              "        vertical-align: middle;\n",
              "    }\n",
              "\n",
              "    .dataframe tbody tr th {\n",
              "        vertical-align: top;\n",
              "    }\n",
              "\n",
              "    .dataframe thead th {\n",
              "        text-align: right;\n",
              "    }\n",
              "</style>\n",
              "<table border=\"1\" class=\"dataframe\">\n",
              "  <thead>\n",
              "    <tr style=\"text-align: right;\">\n",
              "      <th></th>\n",
              "      <th>cid</th>\n",
              "      <th>name</th>\n",
              "      <th>type</th>\n",
              "      <th>notnull</th>\n",
              "      <th>dflt_value</th>\n",
              "      <th>pk</th>\n",
              "    </tr>\n",
              "  </thead>\n",
              "  <tbody>\n",
              "    <tr>\n",
              "      <th>0</th>\n",
              "      <td>0</td>\n",
              "      <td>index</td>\n",
              "      <td>INTEGER</td>\n",
              "      <td>0</td>\n",
              "      <td>None</td>\n",
              "      <td>0</td>\n",
              "    </tr>\n",
              "    <tr>\n",
              "      <th>1</th>\n",
              "      <td>1</td>\n",
              "      <td>MID</td>\n",
              "      <td>TEXT</td>\n",
              "      <td>0</td>\n",
              "      <td>None</td>\n",
              "      <td>0</td>\n",
              "    </tr>\n",
              "    <tr>\n",
              "      <th>2</th>\n",
              "      <td>2</td>\n",
              "      <td>PID</td>\n",
              "      <td>TEXT</td>\n",
              "      <td>0</td>\n",
              "      <td>None</td>\n",
              "      <td>0</td>\n",
              "    </tr>\n",
              "    <tr>\n",
              "      <th>3</th>\n",
              "      <td>3</td>\n",
              "      <td>ID</td>\n",
              "      <td>INTEGER</td>\n",
              "      <td>0</td>\n",
              "      <td>None</td>\n",
              "      <td>0</td>\n",
              "    </tr>\n",
              "  </tbody>\n",
              "</table>\n",
              "</div>"
            ],
            "text/plain": [
              "   cid   name     type  notnull dflt_value  pk\n",
              "0    0  index  INTEGER        0       None   0\n",
              "1    1    MID     TEXT        0       None   0\n",
              "2    2    PID     TEXT        0       None   0\n",
              "3    3     ID  INTEGER        0       None   0"
            ]
          },
          "metadata": {
            "tags": []
          }
        },
        {
          "output_type": "stream",
          "text": [
            "----------------------------------------------------------------------------------------------------\n",
            "\n",
            "\n"
          ],
          "name": "stdout"
        }
      ]
    },
    {
      "cell_type": "markdown",
      "metadata": {
        "id": "O4Cj0Wdz23tA"
      },
      "source": [
        "## Useful tips:\n",
        "\n",
        "1. the year column in 'Movie' table, will have few chracters other than numbers which you need to be preprocessed, you need to get a substring of last 4 characters, its better if you convert it as int type, ex: CAST(SUBSTR(TRIM(m.year),-4) AS INTEGER)\n",
        "\n",
        "2. For almost all the TEXT columns we have show, please try to remove trailing spaces, you need to use TRIM() function\n",
        "\n",
        "3. When you are doing count(coulmn) it won't consider the \"NULL\" values, you might need to explore other alternatives like Count(*)"
      ]
    },
    {
      "cell_type": "markdown",
      "metadata": {
        "id": "jL9AmM3oE_IZ"
      },
      "source": [
        "## Q1 --- List all the directors who directed a 'Comedy' movie in a leap year. (You need to check that the genre is 'Comedy’ and year is a leap year) Your query should return director name, the movie name, and the year."
      ]
    },
    {
      "cell_type": "markdown",
      "metadata": {
        "id": "1jglmxDuE_Ib"
      },
      "source": [
        "<h4>To determine whether a year is a leap year, follow these steps:</h4>\n",
        "\n",
        "<ul>\n",
        "    <li><b>STEP-1:</b> If the year is evenly divisible by 4, go to step 2. Otherwise, go to step 5.</li>\n",
        "    <li><b>STEP-2:</b> If the year is evenly divisible by 100, go to step 3. Otherwise, go to step 4.</li>\n",
        "    <li><b>STEP-3:</b> If the year is evenly divisible by 400, go to step 4. Otherwise, go to step 5.</li>\n",
        "    <li><b>STEP-4:</b> The year is a leap year (it has 366 days).</li>\n",
        "    <li><b>STEP-5:</b> The year is not a leap year (it has 365 days).</li>\n",
        "</ul>\n",
        "\n",
        "Year 1900 is divisible by 4 and 100 but it is not divisible by 400, so it is not a leap year."
      ]
    },
    {
      "cell_type": "code",
      "metadata": {
        "colab": {
          "base_uri": "https://localhost:8080/"
        },
        "id": "yBo_pMrH23tD",
        "outputId": "d3bcf065-f8a4-4a6a-9c5a-b6905fcb7093"
      },
      "source": [
        "%%time\n",
        "\n",
        "def grader_1(q1):\n",
        "    q1_results  = pd.read_sql_query(q1,conn)\n",
        "    print(q1_results.shape)\n",
        "    print(q1_results.head(10))\n",
        "    assert (q1_results.shape == (232,3))\n",
        "\n",
        "query1 = '''SELECT \n",
        "p.Name as Director_Name,\n",
        "m.title as Movie_Name,\n",
        "m.year as Year \n",
        "FROM Movie as m \n",
        "JOIN M_Director as md on md.MID = m.MID \n",
        "JOIN M_Genre as mg on md.MID = mg.MID \n",
        "JOIN Genre as g on g.GID = mg.GID \n",
        "JOIN Person as p on md.PID = TRIM(p.PID) \n",
        "WHERE (year % 4 = 0 AND year % 100 != 0 OR year % 400 = 0) AND (g.Name LIKE '%Comedy%')\n",
        "ORDER BY year ASC\n",
        "'''\n",
        "grader_1(query1)"
      ],
      "execution_count": 7,
      "outputs": [
        {
          "output_type": "stream",
          "text": [
            "(232, 3)\n",
            "       Director_Name       Movie_Name  Year\n",
            "0       Chetan Anand         Funtoosh  1956\n",
            "1        Mohan Segal        New Delhi  1956\n",
            "2         Amit Mitra       Jagte Raho  1956\n",
            "3        Satyen Bose          Jagriti  1956\n",
            "4          Bimal Roy           Parakh  1960\n",
            "5        R.K. Nayyar    Love in Simla  1960\n",
            "6         S.U. Sunny         Kohinoor  1960\n",
            "7  Kidar Nath Sharma      Chitralekha  1964\n",
            "8     Shakti Samanta  Kashmir Ki Kali  1964\n",
            "9      Ravindra Dave     Dulha Dulhan  1964\n",
            "CPU times: user 48.6 ms, sys: 6.11 ms, total: 54.7 ms\n",
            "Wall time: 60.3 ms\n"
          ],
          "name": "stdout"
        }
      ]
    },
    {
      "cell_type": "markdown",
      "metadata": {
        "id": "LHFSrIJlE_Ih"
      },
      "source": [
        "## Q2 --- List the names of all the actors who played in the movie 'Anand' (1971)"
      ]
    },
    {
      "cell_type": "code",
      "metadata": {
        "colab": {
          "base_uri": "https://localhost:8080/"
        },
        "id": "5BSQOVlk23tS",
        "outputId": "2b90d3fe-813f-4fed-d9d9-3fd6f00e6f93"
      },
      "source": [
        "%%time\n",
        "\n",
        "def grader_2(q2):\n",
        "    q2_results  = pd.read_sql_query(q2,conn)\n",
        "    print(q2_results.head(10))\n",
        "    assert (q2_results.shape == (17,1))\n",
        "\n",
        "\n",
        "query2 = '''SELECT p.Name\n",
        "FROM Person p \n",
        "JOIN M_Cast mc ON p.PID = TRIM(mc.PID) \n",
        "JOIN Movie m ON m.MID = mc.MID \n",
        "WHERE m.title = 'Anand' AND m.\"year\" = 1971'''\n",
        "\n",
        "grader_2(query2)"
      ],
      "execution_count": 8,
      "outputs": [
        {
          "output_type": "stream",
          "text": [
            "               Name\n",
            "0  Amitabh Bachchan\n",
            "1     Rajesh Khanna\n",
            "2    Brahm Bhardwaj\n",
            "3        Ramesh Deo\n",
            "4         Seema Deo\n",
            "5        Dev Kishan\n",
            "6       Durga Khote\n",
            "7     Lalita Kumari\n",
            "8      Lalita Pawar\n",
            "9      Atam Prakash\n",
            "CPU times: user 149 ms, sys: 9.5 ms, total: 159 ms\n",
            "Wall time: 161 ms\n"
          ],
          "name": "stdout"
        }
      ]
    },
    {
      "cell_type": "markdown",
      "metadata": {
        "id": "bJ-mAUMmE_Il"
      },
      "source": [
        "## Q3 --- List all the actors who acted in a film before 1970 and in a film after 1990. (That is: < 1970 and > 1990.)"
      ]
    },
    {
      "cell_type": "code",
      "metadata": {
        "colab": {
          "base_uri": "https://localhost:8080/"
        },
        "id": "v9sdxhVsHFMK",
        "outputId": "7608081f-0add-4fb9-8727-6f9d49b53dd2"
      },
      "source": [
        "%%time\r\n",
        "# %%sql\r\n",
        "\r\n",
        "query = '''WITH \r\n",
        "CAST_ON_1970 AS (SELECT TRIM(p.PID) FROM Person p JOIN M_Cast mc ON p.PID = TRIM(mc.PID) JOIN Movie m ON m.MID = mc.MID WHERE m.year < 1970),\r\n",
        "CAST_ON_1990 AS (SELECT TRIM(p.PID) FROM Person p JOIN M_Cast mc ON p.PID = TRIM(mc.PID) JOIN Movie m ON m.MID = mc.MID WHERE m.year > 1990)\r\n",
        "SELECT p.Name AS 'Actor'\r\n",
        "FROM Person p\r\n",
        "WHERE TRIM(PID) IN CAST_ON_1970 AND TRIM(p.PID) IN CAST_ON_1990\r\n",
        "'''\r\n"
      ],
      "execution_count": 9,
      "outputs": [
        {
          "output_type": "stream",
          "text": [
            "CPU times: user 4 µs, sys: 0 ns, total: 4 µs\n",
            "Wall time: 7.63 µs\n"
          ],
          "name": "stdout"
        }
      ]
    },
    {
      "cell_type": "code",
      "metadata": {
        "colab": {
          "base_uri": "https://localhost:8080/"
        },
        "id": "sbzv0UZZ23td",
        "outputId": "5ccb0a03-89ca-4d63-da4d-8f06539c167f"
      },
      "source": [
        "%%time\n",
        "def grader_3(q3):\n",
        "    q3_results  = pd.read_sql_query(q3,conn)\n",
        "    print(q3_results.shape)\n",
        "    print(q3_results.head(10))\n",
        "    assert (q3_results.shape == (300,1))\n",
        "\n",
        "query3 = query\n",
        "grader_3(query3)"
      ],
      "execution_count": 10,
      "outputs": [
        {
          "output_type": "stream",
          "text": [
            "(300, 1)\n",
            "              Actor\n",
            "0      Rishi Kapoor\n",
            "1  Amitabh Bachchan\n",
            "2            Asrani\n",
            "3      Zohra Sehgal\n",
            "4   Parikshat Sahni\n",
            "5     Rakesh Sharma\n",
            "6       Sanjay Dutt\n",
            "7         Ric Young\n",
            "8             Yusuf\n",
            "9    Suhasini Mulay\n",
            "CPU times: user 409 ms, sys: 8.3 ms, total: 418 ms\n",
            "Wall time: 420 ms\n"
          ],
          "name": "stdout"
        }
      ]
    },
    {
      "cell_type": "markdown",
      "metadata": {
        "id": "wd3tqFxaE_Ir"
      },
      "source": [
        "## Q4 --- List all directors who directed 10 movies or more, in descending order of the number of movies they directed. Return the directors' names and the number of movies each of them directed."
      ]
    },
    {
      "cell_type": "code",
      "metadata": {
        "id": "CFQS5gQUTArk"
      },
      "source": [
        "query = '''WITH \r\n",
        "PID_FREQ AS (SELECT md.PID, COUNT(*) as movies_count FROM M_Director md GROUP BY md.PID HAVING COUNT(*) >= 10)\r\n",
        "SELECT p.Name as directors,\r\n",
        "pf.movies_count as no_of_directed_movies\r\n",
        "from Person p\r\n",
        "JOIN PID_FREQ as pf ON pf.PID = p.PID ORDER BY no_of_directed_movies DESC'''"
      ],
      "execution_count": 11,
      "outputs": []
    },
    {
      "cell_type": "code",
      "metadata": {
        "colab": {
          "base_uri": "https://localhost:8080/"
        },
        "id": "xROoSzcF23tn",
        "outputId": "8e0a1b07-bb97-4ea3-c31d-366d5c2dd065"
      },
      "source": [
        "%%time\n",
        "def grader_4(q4):\n",
        "    q4_results  = pd.read_sql_query(q4,conn)\n",
        "    print(q4_results.head(10))\n",
        "    assert (q4_results.shape == (58,2))\n",
        "\n",
        "query4 = query\n",
        "grader_4(query4)"
      ],
      "execution_count": 12,
      "outputs": [
        {
          "output_type": "stream",
          "text": [
            "              directors  no_of_directed_movies\n",
            "0          David Dhawan                     39\n",
            "1          Mahesh Bhatt                     35\n",
            "2       Ram Gopal Varma                     30\n",
            "3          Priyadarshan                     30\n",
            "4          Vikram Bhatt                     29\n",
            "5  Hrishikesh Mukherjee                     27\n",
            "6           Yash Chopra                     21\n",
            "7        Shakti Samanta                     19\n",
            "8       Basu Chatterjee                     19\n",
            "9          Subhash Ghai                     18\n",
            "CPU times: user 24.4 ms, sys: 1.25 ms, total: 25.7 ms\n",
            "Wall time: 27.5 ms\n"
          ],
          "name": "stdout"
        }
      ]
    },
    {
      "cell_type": "markdown",
      "metadata": {
        "id": "OnulNpiOE_Iw"
      },
      "source": [
        "## Q5.a --- For each year, count the number of movies in that year that had only female actors."
      ]
    },
    {
      "cell_type": "code",
      "metadata": {
        "colab": {
          "base_uri": "https://localhost:8080/",
          "height": 175
        },
        "id": "VrD_Z1ZhrNGf",
        "outputId": "f9894e01-f84e-41ab-9b80-0394a11ae415"
      },
      "source": [
        "query = '''WITH \r\n",
        "NON_FEMALE_MOVIES AS (SELECT TRIM(MC.MID) FROM M_Cast MC INNER JOIN Person P ON P.PID = TRIM(MC.PID) WHERE P.Gender in ('Male', NULL) GROUP BY MC.MID),\r\n",
        "FEMALE_MOVIES AS (SELECT M.MID FROM Movie M INNER JOIN M_Cast MC ON TRIM(MC.MID) = M.MID WHERE TRIM(M.MID) NOT IN NON_FEMALE_MOVIES AND MC.PID NOTNULL GROUP BY M.MID)\r\n",
        "\r\n",
        "\r\n",
        "SELECT M.year, COUNT(*) AS 'Female_Cast_Only_Movies'\r\n",
        "FROM Movie M\r\n",
        "WHERE TRIM(M.MID) IN FEMALE_MOVIES\r\n",
        "GROUP BY M.year\r\n",
        "ORDER BY M.year'''\r\n",
        "\r\n",
        "pd.read_sql_query(query,conn)"
      ],
      "execution_count": 13,
      "outputs": [
        {
          "output_type": "execute_result",
          "data": {
            "text/html": [
              "<div>\n",
              "<style scoped>\n",
              "    .dataframe tbody tr th:only-of-type {\n",
              "        vertical-align: middle;\n",
              "    }\n",
              "\n",
              "    .dataframe tbody tr th {\n",
              "        vertical-align: top;\n",
              "    }\n",
              "\n",
              "    .dataframe thead th {\n",
              "        text-align: right;\n",
              "    }\n",
              "</style>\n",
              "<table border=\"1\" class=\"dataframe\">\n",
              "  <thead>\n",
              "    <tr style=\"text-align: right;\">\n",
              "      <th></th>\n",
              "      <th>year</th>\n",
              "      <th>Female_Cast_Only_Movies</th>\n",
              "    </tr>\n",
              "  </thead>\n",
              "  <tbody>\n",
              "    <tr>\n",
              "      <th>0</th>\n",
              "      <td>1939</td>\n",
              "      <td>1</td>\n",
              "    </tr>\n",
              "    <tr>\n",
              "      <th>1</th>\n",
              "      <td>1999</td>\n",
              "      <td>1</td>\n",
              "    </tr>\n",
              "    <tr>\n",
              "      <th>2</th>\n",
              "      <td>2000</td>\n",
              "      <td>1</td>\n",
              "    </tr>\n",
              "    <tr>\n",
              "      <th>3</th>\n",
              "      <td>2018</td>\n",
              "      <td>1</td>\n",
              "    </tr>\n",
              "  </tbody>\n",
              "</table>\n",
              "</div>"
            ],
            "text/plain": [
              "   year  Female_Cast_Only_Movies\n",
              "0  1939                        1\n",
              "1  1999                        1\n",
              "2  2000                        1\n",
              "3  2018                        1"
            ]
          },
          "metadata": {
            "tags": []
          },
          "execution_count": 13
        }
      ]
    },
    {
      "cell_type": "code",
      "metadata": {
        "colab": {
          "base_uri": "https://localhost:8080/"
        },
        "id": "zQOIawPME_Ix",
        "outputId": "654aff78-57b2-46cb-a6a3-929caab2a066"
      },
      "source": [
        "%%time\n",
        "def grader_5a(q5a):\n",
        "    q5a_results  = pd.read_sql_query(q5a,conn)\n",
        "    print(q5a_results.head(10))\n",
        "    assert (q5a_results.shape == (4,2))\n",
        "\n",
        "query5a = query\n",
        "grader_5a(query5a)"
      ],
      "execution_count": 14,
      "outputs": [
        {
          "output_type": "stream",
          "text": [
            "   year  Female_Cast_Only_Movies\n",
            "0  1939                        1\n",
            "1  1999                        1\n",
            "2  2000                        1\n",
            "3  2018                        1\n",
            "CPU times: user 238 ms, sys: 2.01 ms, total: 240 ms\n",
            "Wall time: 241 ms\n"
          ],
          "name": "stdout"
        }
      ]
    },
    {
      "cell_type": "markdown",
      "metadata": {
        "id": "cTiKejUfE_I1"
      },
      "source": [
        "## Q5.b --- Now include a small change: report for each year the percentage of movies in that year with only female actors, and the total number of movies made that year. For example, one answer will be: 1990 31.81 13522 meaning that in 1990 there were 13,522 movies, and 31.81% had only female actors. You do not need to round your answer."
      ]
    },
    {
      "cell_type": "code",
      "metadata": {
        "id": "UYFvPeMqGuJv"
      },
      "source": [
        "query = '''WITH \r\n",
        "NON_FEMALE_MOVIES AS (SELECT TRIM(MC.MID) FROM M_Cast MC INNER JOIN Person P ON P.PID = TRIM(MC.PID) WHERE P.Gender in ('Male', NULL) GROUP BY MC.MID),\r\n",
        "FEMALE_MOVIES AS (SELECT M.MID FROM Movie M INNER JOIN M_Cast MC ON TRIM(MC.MID) = M.MID WHERE TRIM(M.MID) NOT IN NON_FEMALE_MOVIES AND MC.PID NOTNULL GROUP BY M.MID),\r\n",
        "ALL_YEARS AS (SELECT m.year, COUNT(*) AS 'total_movies' FROM Movie as m GROUP BY m.year)\r\n",
        "\r\n",
        "SELECT m.year, AY.total_movies, (COUNT(m.year) * 100 * 0.01 / AY.total_movies) AS Percentage_Female_Only_Movie\r\n",
        "FROM Movie m\r\n",
        "INNER JOIN FEMALE_MOVIES FM ON FM.MID = m.MID\r\n",
        "INNER JOIN ALL_YEARS AY ON m.year = AY.year\r\n",
        "GROUP BY m.year\r\n",
        "ORDER BY m.year '''"
      ],
      "execution_count": 15,
      "outputs": []
    },
    {
      "cell_type": "code",
      "metadata": {
        "colab": {
          "base_uri": "https://localhost:8080/"
        },
        "id": "Xv6iXvcZE_I2",
        "outputId": "1ccecda4-4aa5-4051-d5ca-d75c4c6417a9"
      },
      "source": [
        "%%time\n",
        "def grader_5b(q5b):\n",
        "    q5b_results  = pd.read_sql_query(q5b,conn)\n",
        "    print(q5b_results.head(10))\n",
        "    assert (q5b_results.shape == (4,3))\n",
        "\n",
        "query5b = query\n",
        "grader_5b(query5b)"
      ],
      "execution_count": 16,
      "outputs": [
        {
          "output_type": "stream",
          "text": [
            "   year  total_movies  Percentage_Female_Only_Movie\n",
            "0  1939             2                      0.500000\n",
            "1  1999            66                      0.015152\n",
            "2  2000            64                      0.015625\n",
            "3  2018           104                      0.009615\n",
            "CPU times: user 240 ms, sys: 6.61 ms, total: 247 ms\n",
            "Wall time: 250 ms\n"
          ],
          "name": "stdout"
        }
      ]
    },
    {
      "cell_type": "markdown",
      "metadata": {
        "id": "d5mvJcHDE_I6"
      },
      "source": [
        "## Q6 --- Find the film(s) with the largest cast. Return the movie title and the size of the cast. By \"cast size\" we mean the number of distinct actors that played in that movie: if an actor played multiple roles, or if it simply occurs multiple times in casts, we still count her/him only once."
      ]
    },
    {
      "cell_type": "code",
      "metadata": {
        "id": "KsQV4UrzIiax"
      },
      "source": [
        "query = '''WITH \r\n",
        "CAST_COUNT AS\r\n",
        "(SELECT COUNT(*) AS CAST_COUNT, mc.MID\r\n",
        "FROM M_Cast mc \r\n",
        "GROUP BY mc.MID\r\n",
        "ORDER BY CAST_COUNT DESC)\r\n",
        "\r\n",
        "SELECT M.title as MOVIE_TITLE, CC.CAST_COUNT AS CAST_SIZE FROM CAST_COUNT CC \r\n",
        "JOIN Movie AS M ON M.MID = CC.MID\r\n",
        "ORDER BY CAST_SIZE DESC\r\n",
        "'''"
      ],
      "execution_count": 17,
      "outputs": []
    },
    {
      "cell_type": "code",
      "metadata": {
        "colab": {
          "base_uri": "https://localhost:8080/"
        },
        "id": "vpr9gGg6E_I7",
        "outputId": "a33b354a-e38e-4950-d3cf-3a91d3b27149"
      },
      "source": [
        "%%time\n",
        "def grader_6(q6):\n",
        "    q6_results  = pd.read_sql_query(q6,conn)\n",
        "    print(q6_results.head(10))\n",
        "    assert (q6_results.shape == (3473, 2))\n",
        "\n",
        "query6 = query\n",
        "grader_6(query6)"
      ],
      "execution_count": 18,
      "outputs": [
        {
          "output_type": "stream",
          "text": [
            "                  MOVIE_TITLE  CAST_SIZE\n",
            "0               Ocean's Eight        238\n",
            "1                    Apaharan        233\n",
            "2                        Gold        215\n",
            "3             My Name Is Khan        213\n",
            "4  Captain America: Civil War        191\n",
            "5                    Geostorm        170\n",
            "6                     Striker        165\n",
            "7                        2012        154\n",
            "8                      Pixels        144\n",
            "9       Yamla Pagla Deewana 2        140\n",
            "CPU times: user 57.3 ms, sys: 1.77 ms, total: 59 ms\n",
            "Wall time: 59.9 ms\n"
          ],
          "name": "stdout"
        }
      ]
    },
    {
      "cell_type": "markdown",
      "metadata": {
        "id": "I9CKkrWYE_I_"
      },
      "source": [
        "### Q7 --- A decade is a sequence of 10 consecutive years. \n",
        "### For example, say in your database you have movie information starting from 1931. \n",
        "### the first decade is 1931, 1932, ..., 1940,\n",
        "### the second decade is 1932, 1933, ..., 1941 and so on. \n",
        "### Find the decade D with the largest number of films and the total number of films in D."
      ]
    },
    {
      "cell_type": "code",
      "metadata": {
        "colab": {
          "base_uri": "https://localhost:8080/",
          "height": 81
        },
        "id": "8M5qN-_QRYOd",
        "outputId": "19df46b3-dedc-496f-826d-17de373e67f0"
      },
      "source": [
        "query = '''WITH \r\n",
        "UNIQUE_YEAR AS (SELECT DISTINCT year FROM Movie)\r\n",
        "\r\n",
        "SELECT D.year as DECADE_START, D.year+9 as DECADE_END, COUNT(*) AS 'TOTAL_FILMS' \r\n",
        "FROM UNIQUE_YEAR D\r\n",
        "JOIN Movie M on M.year >= D.year AND M.year<= D.year+9\r\n",
        "GROUP BY D.year+9 \r\n",
        "ORDER BY COUNT(*) DESC LIMIT 1;'''\r\n",
        "\r\n",
        "pd.read_sql_query(query, conn)"
      ],
      "execution_count": 19,
      "outputs": [
        {
          "output_type": "execute_result",
          "data": {
            "text/html": [
              "<div>\n",
              "<style scoped>\n",
              "    .dataframe tbody tr th:only-of-type {\n",
              "        vertical-align: middle;\n",
              "    }\n",
              "\n",
              "    .dataframe tbody tr th {\n",
              "        vertical-align: top;\n",
              "    }\n",
              "\n",
              "    .dataframe thead th {\n",
              "        text-align: right;\n",
              "    }\n",
              "</style>\n",
              "<table border=\"1\" class=\"dataframe\">\n",
              "  <thead>\n",
              "    <tr style=\"text-align: right;\">\n",
              "      <th></th>\n",
              "      <th>DECADE_START</th>\n",
              "      <th>DECADE_END</th>\n",
              "      <th>TOTAL_FILMS</th>\n",
              "    </tr>\n",
              "  </thead>\n",
              "  <tbody>\n",
              "    <tr>\n",
              "      <th>0</th>\n",
              "      <td>2008</td>\n",
              "      <td>2017</td>\n",
              "      <td>1203</td>\n",
              "    </tr>\n",
              "  </tbody>\n",
              "</table>\n",
              "</div>"
            ],
            "text/plain": [
              "  DECADE_START  DECADE_END  TOTAL_FILMS\n",
              "0         2008        2017         1203"
            ]
          },
          "metadata": {
            "tags": []
          },
          "execution_count": 19
        }
      ]
    },
    {
      "cell_type": "code",
      "metadata": {
        "colab": {
          "base_uri": "https://localhost:8080/"
        },
        "id": "NKqbguuqE_JA",
        "outputId": "3e5e2435-8755-45ce-b1d9-bef040de4a26"
      },
      "source": [
        "%%time\n",
        "def grader_7(q7):\n",
        "    q7_results  = pd.read_sql_query(q7,conn)\n",
        "    print(q7_results.head(10))\n",
        "    assert (q7_results.shape == (1, 3))\n",
        "\n",
        "grader_7(query)\n",
        "# if you check the output we are printinng all the year in that decade, its fine you can print 2008 or 2008-2017"
      ],
      "execution_count": 20,
      "outputs": [
        {
          "output_type": "stream",
          "text": [
            "  DECADE_START  DECADE_END  TOTAL_FILMS\n",
            "0         2008        2017         1203\n",
            "CPU times: user 71.6 ms, sys: 818 µs, total: 72.5 ms\n",
            "Wall time: 73.2 ms\n"
          ],
          "name": "stdout"
        }
      ]
    },
    {
      "cell_type": "markdown",
      "metadata": {
        "id": "6NP-GyTaE_JF"
      },
      "source": [
        "## Q8 --- Find all the actors that made more movies with Yash Chopra than any other director."
      ]
    },
    {
      "cell_type": "code",
      "metadata": {
        "id": "9DxN01UAk3NF"
      },
      "source": [
        "query = '''SELECT TRIM(P.PID) AS ACTOR_NAME,\r\n",
        "TRIM(P1.PID) AS DIRECTOR_NAME,\r\n",
        "COUNT(DISTINCT M.MID) AS MOVIES_COUNTS\r\n",
        "\r\n",
        "FROM Person P\r\n",
        "\r\n",
        "JOIN M_Cast MC ON TRIM(MC.PID) = P.PID \r\n",
        "JOIN Movie M ON M.MID = MC.MID \r\n",
        "JOIN M_Director MD ON MD.MID = M.MID \r\n",
        "JOIN Person P1 ON P1.PID = TRIM(MD.PID)\r\n",
        "\r\n",
        "GROUP BY ACTOR_NAME, DIRECTOR_NAME\r\n",
        "'''"
      ],
      "execution_count": 21,
      "outputs": []
    },
    {
      "cell_type": "code",
      "metadata": {
        "colab": {
          "base_uri": "https://localhost:8080/"
        },
        "id": "ODY9YeFptSrq",
        "outputId": "871b0a1d-610b-43a4-c0c2-f21ad91adbbe"
      },
      "source": [
        "%%time\r\n",
        "def grader_8a(q8a):\r\n",
        "    q8a_results  = pd.read_sql_query(q8a,conn)\r\n",
        "    print(q8a_results.head(10))\r\n",
        "    assert (q8a_results.shape == (73408, 3))\r\n",
        "\r\n",
        "query8a = query\r\n",
        "grader_8a(query8a)\r\n",
        "\r\n",
        "# using the above query, you can write the answer to the given question"
      ],
      "execution_count": 22,
      "outputs": [
        {
          "output_type": "stream",
          "text": [
            "  ACTOR_NAME DIRECTOR_NAME  MOVIES_COUNTS\n",
            "0  nm0000002     nm0496746              1\n",
            "1  nm0000027     nm0000180              1\n",
            "2  nm0000039     nm0896533              1\n",
            "3  nm0000042     nm0896533              1\n",
            "4  nm0000047     nm0004292              1\n",
            "5  nm0000073     nm0485943              1\n",
            "6  nm0000076     nm0000229              1\n",
            "7  nm0000092     nm0178997              1\n",
            "8  nm0000093     nm0000269              1\n",
            "9  nm0000096     nm0113819              1\n",
            "CPU times: user 688 ms, sys: 32 ms, total: 720 ms\n",
            "Wall time: 726 ms\n"
          ],
          "name": "stdout"
        }
      ]
    },
    {
      "cell_type": "markdown",
      "metadata": {
        "id": "wBquER6WyS5G"
      },
      "source": [
        "### `REFERENCE HYPERLINK:` [STACKOVERFLOW](https://stackoverflow.com/a/64294273)"
      ]
    },
    {
      "cell_type": "code",
      "metadata": {
        "colab": {
          "base_uri": "https://localhost:8080/",
          "height": 206
        },
        "id": "cWm2otw3zT7-",
        "outputId": "006c9f08-9af9-4368-8606-d5a1003442e9"
      },
      "source": [
        "query = '''select *    \r\n",
        "from m_cast as mc\r\n",
        "join m_director md \r\n",
        "on md.MID=mc.MID               \r\n",
        "group by mc.pid , md.pid\r\n",
        "\r\n",
        "'''\r\n",
        "\r\n",
        "pd.read_sql_query(query,conn).head(5)\r\n",
        "# nm0007181"
      ],
      "execution_count": 23,
      "outputs": [
        {
          "output_type": "execute_result",
          "data": {
            "text/html": [
              "<div>\n",
              "<style scoped>\n",
              "    .dataframe tbody tr th:only-of-type {\n",
              "        vertical-align: middle;\n",
              "    }\n",
              "\n",
              "    .dataframe tbody tr th {\n",
              "        vertical-align: top;\n",
              "    }\n",
              "\n",
              "    .dataframe thead th {\n",
              "        text-align: right;\n",
              "    }\n",
              "</style>\n",
              "<table border=\"1\" class=\"dataframe\">\n",
              "  <thead>\n",
              "    <tr style=\"text-align: right;\">\n",
              "      <th></th>\n",
              "      <th>index</th>\n",
              "      <th>MID</th>\n",
              "      <th>PID</th>\n",
              "      <th>ID</th>\n",
              "      <th>index</th>\n",
              "      <th>MID</th>\n",
              "      <th>PID</th>\n",
              "      <th>ID</th>\n",
              "    </tr>\n",
              "  </thead>\n",
              "  <tbody>\n",
              "    <tr>\n",
              "      <th>0</th>\n",
              "      <td>19391</td>\n",
              "      <td>tt0053126</td>\n",
              "      <td>nm0000002</td>\n",
              "      <td>19391</td>\n",
              "      <td>529</td>\n",
              "      <td>tt0053126</td>\n",
              "      <td>nm0496746</td>\n",
              "      <td>529</td>\n",
              "    </tr>\n",
              "    <tr>\n",
              "      <th>1</th>\n",
              "      <td>4696</td>\n",
              "      <td>tt0087892</td>\n",
              "      <td>nm0000027</td>\n",
              "      <td>4696</td>\n",
              "      <td>91</td>\n",
              "      <td>tt0087892</td>\n",
              "      <td>nm0000180</td>\n",
              "      <td>91</td>\n",
              "    </tr>\n",
              "    <tr>\n",
              "      <th>2</th>\n",
              "      <td>62041</td>\n",
              "      <td>tt0046427</td>\n",
              "      <td>nm0000039</td>\n",
              "      <td>62041</td>\n",
              "      <td>2380</td>\n",
              "      <td>tt0046427</td>\n",
              "      <td>nm0896533</td>\n",
              "      <td>2380</td>\n",
              "    </tr>\n",
              "    <tr>\n",
              "      <th>3</th>\n",
              "      <td>62040</td>\n",
              "      <td>tt0046427</td>\n",
              "      <td>nm0000042</td>\n",
              "      <td>62040</td>\n",
              "      <td>2380</td>\n",
              "      <td>tt0046427</td>\n",
              "      <td>nm0896533</td>\n",
              "      <td>2380</td>\n",
              "    </tr>\n",
              "    <tr>\n",
              "      <th>4</th>\n",
              "      <td>15894</td>\n",
              "      <td>tt0066070</td>\n",
              "      <td>nm0000047</td>\n",
              "      <td>15894</td>\n",
              "      <td>407</td>\n",
              "      <td>tt0066070</td>\n",
              "      <td>nm0004292</td>\n",
              "      <td>407</td>\n",
              "    </tr>\n",
              "  </tbody>\n",
              "</table>\n",
              "</div>"
            ],
            "text/plain": [
              "   index        MID        PID     ID  index        MID        PID    ID\n",
              "0  19391  tt0053126  nm0000002  19391    529  tt0053126  nm0496746   529\n",
              "1   4696  tt0087892  nm0000027   4696     91  tt0087892  nm0000180    91\n",
              "2  62041  tt0046427  nm0000039  62041   2380  tt0046427  nm0896533  2380\n",
              "3  62040  tt0046427  nm0000042  62040   2380  tt0046427  nm0896533  2380\n",
              "4  15894  tt0066070  nm0000047  15894    407  tt0066070  nm0004292   407"
            ]
          },
          "metadata": {
            "tags": []
          },
          "execution_count": 23
        }
      ]
    },
    {
      "cell_type": "code",
      "metadata": {
        "colab": {
          "base_uri": "https://localhost:8080/",
          "height": 520
        },
        "id": "J_o5a4Ar0mp_",
        "outputId": "3ce64243-0c9a-4943-89a8-729667fb854b"
      },
      "source": [
        "query = '''select p.name, h.count \r\n",
        "from(select mc.pid as mcpid, md.pid as mdpid, count(mc.MID) as count   \r\n",
        "from m_cast as mc\r\n",
        "join m_director md \r\n",
        "on md.MID=mc.MID               \r\n",
        "group by mc.pid , md.pid) h\r\n",
        "join person p \r\n",
        "on h.mcpid=p.pid\r\n",
        "where h.count = (select count(*) as count   \r\n",
        "from m_cast as mc\r\n",
        "join m_director md \r\n",
        "on md.mid=mc.mid\r\n",
        "where mc.pid=h.mcpid \r\n",
        "group by mc.pid,md.pid \r\n",
        "order by count(*) desc\r\n",
        "limit 1)\r\n",
        "and h.mdpid = (select pid \r\n",
        "from person \r\n",
        "where name like '%Yash Chopra%')\r\n",
        "order by h.count desc\r\n",
        "'''\r\n",
        "\r\n",
        "pd.read_sql_query(query,conn).head(15)\r\n",
        "# nm0007181"
      ],
      "execution_count": 24,
      "outputs": [
        {
          "output_type": "execute_result",
          "data": {
            "text/html": [
              "<div>\n",
              "<style scoped>\n",
              "    .dataframe tbody tr th:only-of-type {\n",
              "        vertical-align: middle;\n",
              "    }\n",
              "\n",
              "    .dataframe tbody tr th {\n",
              "        vertical-align: top;\n",
              "    }\n",
              "\n",
              "    .dataframe thead th {\n",
              "        text-align: right;\n",
              "    }\n",
              "</style>\n",
              "<table border=\"1\" class=\"dataframe\">\n",
              "  <thead>\n",
              "    <tr style=\"text-align: right;\">\n",
              "      <th></th>\n",
              "      <th>Name</th>\n",
              "      <th>count</th>\n",
              "    </tr>\n",
              "  </thead>\n",
              "  <tbody>\n",
              "    <tr>\n",
              "      <th>0</th>\n",
              "      <td>Jagdish Raj</td>\n",
              "      <td>11</td>\n",
              "    </tr>\n",
              "    <tr>\n",
              "      <th>1</th>\n",
              "      <td>Manmohan Krishna</td>\n",
              "      <td>10</td>\n",
              "    </tr>\n",
              "    <tr>\n",
              "      <th>2</th>\n",
              "      <td>Iftekhar</td>\n",
              "      <td>9</td>\n",
              "    </tr>\n",
              "    <tr>\n",
              "      <th>3</th>\n",
              "      <td>Shashi Kapoor</td>\n",
              "      <td>7</td>\n",
              "    </tr>\n",
              "    <tr>\n",
              "      <th>4</th>\n",
              "      <td>Waheeda Rehman</td>\n",
              "      <td>5</td>\n",
              "    </tr>\n",
              "    <tr>\n",
              "      <th>5</th>\n",
              "      <td>Rakhee Gulzar</td>\n",
              "      <td>5</td>\n",
              "    </tr>\n",
              "    <tr>\n",
              "      <th>6</th>\n",
              "      <td>Achala Sachdev</td>\n",
              "      <td>4</td>\n",
              "    </tr>\n",
              "    <tr>\n",
              "      <th>7</th>\n",
              "      <td>Neetu Singh</td>\n",
              "      <td>4</td>\n",
              "    </tr>\n",
              "    <tr>\n",
              "      <th>8</th>\n",
              "      <td>Ravikant</td>\n",
              "      <td>4</td>\n",
              "    </tr>\n",
              "    <tr>\n",
              "      <th>9</th>\n",
              "      <td>Parikshat Sahni</td>\n",
              "      <td>3</td>\n",
              "    </tr>\n",
              "    <tr>\n",
              "      <th>10</th>\n",
              "      <td>Surendra Rahi</td>\n",
              "      <td>3</td>\n",
              "    </tr>\n",
              "    <tr>\n",
              "      <th>11</th>\n",
              "      <td>Sudha Chopra</td>\n",
              "      <td>3</td>\n",
              "    </tr>\n",
              "    <tr>\n",
              "      <th>12</th>\n",
              "      <td>Saul George</td>\n",
              "      <td>3</td>\n",
              "    </tr>\n",
              "    <tr>\n",
              "      <th>13</th>\n",
              "      <td>Mohan Sherry</td>\n",
              "      <td>3</td>\n",
              "    </tr>\n",
              "    <tr>\n",
              "      <th>14</th>\n",
              "      <td>Leela Chitnis</td>\n",
              "      <td>3</td>\n",
              "    </tr>\n",
              "  </tbody>\n",
              "</table>\n",
              "</div>"
            ],
            "text/plain": [
              "                Name  count\n",
              "0        Jagdish Raj     11\n",
              "1   Manmohan Krishna     10\n",
              "2           Iftekhar      9\n",
              "3      Shashi Kapoor      7\n",
              "4     Waheeda Rehman      5\n",
              "5      Rakhee Gulzar      5\n",
              "6     Achala Sachdev      4\n",
              "7        Neetu Singh      4\n",
              "8           Ravikant      4\n",
              "9    Parikshat Sahni      3\n",
              "10     Surendra Rahi      3\n",
              "11      Sudha Chopra      3\n",
              "12       Saul George      3\n",
              "13      Mohan Sherry      3\n",
              "14     Leela Chitnis      3"
            ]
          },
          "metadata": {
            "tags": []
          },
          "execution_count": 24
        }
      ]
    },
    {
      "cell_type": "code",
      "metadata": {
        "colab": {
          "base_uri": "https://localhost:8080/"
        },
        "id": "SYMTcHixE_JH",
        "outputId": "74059e01-9d28-48f7-ee5c-573b4f7b06a1"
      },
      "source": [
        "%%time\n",
        "\n",
        "def grader_8(q8):\n",
        "    q8_results  = pd.read_sql_query(q8,conn)\n",
        "    print(q8_results.head(10))\n",
        "    print(q8_results.shape)\n",
        "    assert (q8_results.shape == (245, 2))\n",
        "\n",
        "query8 = query\n",
        "grader_8(query)"
      ],
      "execution_count": 25,
      "outputs": [
        {
          "output_type": "stream",
          "text": [
            "               Name  count\n",
            "0       Jagdish Raj     11\n",
            "1  Manmohan Krishna     10\n",
            "2          Iftekhar      9\n",
            "3     Shashi Kapoor      7\n",
            "4    Waheeda Rehman      5\n",
            "5     Rakhee Gulzar      5\n",
            "6    Achala Sachdev      4\n",
            "7       Neetu Singh      4\n",
            "8          Ravikant      4\n",
            "9   Parikshat Sahni      3\n",
            "(245, 2)\n",
            "CPU times: user 3.04 s, sys: 450 ms, total: 3.49 s\n",
            "Wall time: 3.5 s\n"
          ],
          "name": "stdout"
        }
      ]
    },
    {
      "cell_type": "markdown",
      "metadata": {
        "id": "VHwJ75_qE_JQ"
      },
      "source": [
        "## Q9 --- The Shahrukh number of an actor is the length of the shortest path between the actor and Shahrukh Khan in the \"co-acting\" graph. That is, Shahrukh Khan has Shahrukh number 0; all actors who acted in the same film as Shahrukh have Shahrukh number 1; all actors who acted in the same film as some actor with Shahrukh number 1 have Shahrukh number 2, etc. Return all actors whose Shahrukh number is 2."
      ]
    },
    {
      "cell_type": "code",
      "metadata": {
        "id": "WxvWRA9pALDV"
      },
      "source": [
        "query = '''WITH \r\n",
        "SHARUKH_0 AS (SELECT TRIM(PID) AS PID FROM Person P\r\n",
        "where P.Name like 'Sha%Rukh%Khan'),\r\n",
        "\r\n",
        "SHARUKH_MOVIES_1 AS (SELECT DISTINCT TRIM(MC.MID) MID, S0.PID\r\n",
        "FROM M_Cast MC, SHARUKH_0 S0\r\n",
        "WHERE TRIM(MC.PID) = S0.PID),\r\n",
        "\r\n",
        "SHARUKH_1_ACTORS AS (SELECT DISTINCT TRIM(MC.PID) AS PID FROM M_cast MC, SHARUKH_MOVIES_1 SM1\r\n",
        "WHERE TRIM(MC.MID) = SM1.MID AND TRIM(MC.PID) <> SM1.PID),\r\n",
        "\r\n",
        "SHARUKH_MOVIES_2 AS (SELECT DISTINCT TRIM(MC.MID) MID, S1.PID\r\n",
        "FROM M_Cast MC, SHARUKH_1_ACTORS S1\r\n",
        "WHERE TRIM(MC.PID) = S1.PID),\r\n",
        "\r\n",
        "SET_ACTOR1_ACTOR2 AS (SELECT DISTINCT TRIM(MC.PID) AS PID FROM M_cast MC, SHARUKH_MOVIES_2 SM2\r\n",
        "WHERE TRIM(MC.MID) = SM2.MID AND TRIM(MC.PID) <> SM2.PID),\r\n",
        "\r\n",
        "ACTORS_2 AS (SELECT * FROM SET_ACTOR1_ACTOR2 G\r\n",
        "WHERE TRIM(G.PID) NOT IN (SELECT TRIM(PID) FROM SHARUKH_1_ACTORS)\r\n",
        "ORDER BY G.PID)\r\n",
        "\r\n",
        "SELECT P.Name FROM Person P\r\n",
        "JOIN ACTORS_2 A2 ON TRIM(A2.PID) = P.PID\r\n",
        "'''"
      ],
      "execution_count": 26,
      "outputs": []
    },
    {
      "cell_type": "code",
      "metadata": {
        "id": "5o6imc82E_JS",
        "colab": {
          "base_uri": "https://localhost:8080/"
        },
        "outputId": "abbf5eb8-45be-4fcb-b215-6ec29bdae556"
      },
      "source": [
        "%%time\n",
        "def grader_9(q9):\n",
        "    q9_results  = pd.read_sql_query(q9,conn)\n",
        "    print(q9_results.head(10))\n",
        "    print(q9_results.shape)\n",
        "    assert (q9_results.shape == (25699, 1))\n",
        "\n",
        "query9 = query\n",
        "grader_9(query9)"
      ],
      "execution_count": 27,
      "outputs": [
        {
          "output_type": "stream",
          "text": [
            "               Name\n",
            "0     Alec Guinness\n",
            "1      Sophia Loren\n",
            "2         Brad Pitt\n",
            "3  Gillian Anderson\n",
            "4    Pierce Brosnan\n",
            "5          Bo Derek\n",
            "6   Michael Douglas\n",
            "7        Cary Elwes\n",
            "8       Colin Firth\n",
            "9   Whoopi Goldberg\n",
            "(25699, 1)\n",
            "CPU times: user 917 ms, sys: 14.8 ms, total: 932 ms\n",
            "Wall time: 932 ms\n"
          ],
          "name": "stdout"
        }
      ]
    }
  ]
}