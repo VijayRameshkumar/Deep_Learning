{
  "nbformat": 4,
  "nbformat_minor": 0,
  "metadata": {
    "colab": {
      "name": "HO_detection_and_traciking.ipynb",
      "provenance": [],
      "collapsed_sections": [],
      "authorship_tag": "ABX9TyPNJuh4VdKO9oMQuL6fMMw5",
      "include_colab_link": true
    },
    "kernelspec": {
      "name": "python3",
      "display_name": "Python 3"
    },
    "accelerator": "GPU"
  },
  "cells": [
    {
      "cell_type": "markdown",
      "metadata": {
        "id": "view-in-github",
        "colab_type": "text"
      },
      "source": [
        "<a href=\"https://colab.research.google.com/github/Juzz4vijay/Deep_Learning/blob/master/HO_detection_and_traciking.ipynb\" target=\"_parent\"><img src=\"https://colab.research.google.com/assets/colab-badge.svg\" alt=\"Open In Colab\"/></a>"
      ]
    },
    {
      "cell_type": "code",
      "metadata": {
        "id": "E5rRrGqZNwws",
        "colab_type": "code",
        "outputId": "6875d9d3-7b82-4131-a981-25489921b534",
        "colab": {
          "base_uri": "https://localhost:8080/",
          "height": 34
        }
      },
      "source": [
        "from google.colab import drive\n",
        "drive.mount('/content/drive')"
      ],
      "execution_count": 0,
      "outputs": [
        {
          "output_type": "stream",
          "text": [
            "Drive already mounted at /content/drive; to attempt to forcibly remount, call drive.mount(\"/content/drive\", force_remount=True).\n"
          ],
          "name": "stdout"
        }
      ]
    },
    {
      "cell_type": "code",
      "metadata": {
        "id": "jv3HbB8sOUoW",
        "colab_type": "code",
        "outputId": "dc0b2198-544f-4cc7-a5b5-2accd65a888a",
        "colab": {
          "base_uri": "https://localhost:8080/",
          "height": 34
        }
      },
      "source": [
        "!git clone https://github.com/pythonlessons/OIDv4_ToolKit.git"
      ],
      "execution_count": 0,
      "outputs": [
        {
          "output_type": "stream",
          "text": [
            "fatal: destination path 'OIDv4_ToolKit' already exists and is not an empty directory.\n"
          ],
          "name": "stdout"
        }
      ]
    },
    {
      "cell_type": "code",
      "metadata": {
        "id": "FFuUEU23OlZy",
        "colab_type": "code",
        "outputId": "a046fb9d-878e-476c-8949-c6a715ee4f01",
        "colab": {
          "base_uri": "https://localhost:8080/",
          "height": 332
        }
      },
      "source": [
        "!pip install -r /content/OIDv4_ToolKit/requirements.txt"
      ],
      "execution_count": 0,
      "outputs": [
        {
          "output_type": "stream",
          "text": [
            "Requirement already satisfied: pandas in /usr/local/lib/python3.6/dist-packages (from -r /content/OIDv4_ToolKit/requirements.txt (line 1)) (0.25.3)\n",
            "Requirement already satisfied: numpy in /usr/local/lib/python3.6/dist-packages (from -r /content/OIDv4_ToolKit/requirements.txt (line 2)) (1.17.5)\n",
            "Requirement already satisfied: awscli in /usr/local/lib/python3.6/dist-packages (from -r /content/OIDv4_ToolKit/requirements.txt (line 3)) (1.18.18)\n",
            "Requirement already satisfied: urllib3 in /usr/local/lib/python3.6/dist-packages (from -r /content/OIDv4_ToolKit/requirements.txt (line 5)) (1.24.3)\n",
            "Requirement already satisfied: tqdm in /usr/local/lib/python3.6/dist-packages (from -r /content/OIDv4_ToolKit/requirements.txt (line 7)) (4.28.1)\n",
            "Requirement already satisfied: opencv-python in /usr/local/lib/python3.6/dist-packages (from -r /content/OIDv4_ToolKit/requirements.txt (line 9)) (4.1.2.30)\n",
            "Requirement already satisfied: python-dateutil>=2.6.1 in /usr/local/lib/python3.6/dist-packages (from pandas->-r /content/OIDv4_ToolKit/requirements.txt (line 1)) (2.6.1)\n",
            "Requirement already satisfied: pytz>=2017.2 in /usr/local/lib/python3.6/dist-packages (from pandas->-r /content/OIDv4_ToolKit/requirements.txt (line 1)) (2018.9)\n",
            "Requirement already satisfied: s3transfer<0.4.0,>=0.3.0 in /usr/local/lib/python3.6/dist-packages (from awscli->-r /content/OIDv4_ToolKit/requirements.txt (line 3)) (0.3.3)\n",
            "Requirement already satisfied: botocore==1.15.18 in /usr/local/lib/python3.6/dist-packages (from awscli->-r /content/OIDv4_ToolKit/requirements.txt (line 3)) (1.15.18)\n",
            "Requirement already satisfied: colorama<0.4.4,>=0.2.5; python_version != \"3.4\" in /usr/local/lib/python3.6/dist-packages (from awscli->-r /content/OIDv4_ToolKit/requirements.txt (line 3)) (0.4.3)\n",
            "Requirement already satisfied: PyYAML<5.4,>=3.10; python_version != \"3.4\" in /usr/local/lib/python3.6/dist-packages (from awscli->-r /content/OIDv4_ToolKit/requirements.txt (line 3)) (3.13)\n",
            "Requirement already satisfied: docutils<0.16,>=0.10 in /usr/local/lib/python3.6/dist-packages (from awscli->-r /content/OIDv4_ToolKit/requirements.txt (line 3)) (0.15.2)\n",
            "Requirement already satisfied: rsa<=3.5.0,>=3.1.2 in /usr/local/lib/python3.6/dist-packages (from awscli->-r /content/OIDv4_ToolKit/requirements.txt (line 3)) (3.4.2)\n",
            "Requirement already satisfied: six>=1.5 in /usr/local/lib/python3.6/dist-packages (from python-dateutil>=2.6.1->pandas->-r /content/OIDv4_ToolKit/requirements.txt (line 1)) (1.12.0)\n",
            "Requirement already satisfied: jmespath<1.0.0,>=0.7.1 in /usr/local/lib/python3.6/dist-packages (from botocore==1.15.18->awscli->-r /content/OIDv4_ToolKit/requirements.txt (line 3)) (0.9.4)\n",
            "Requirement already satisfied: pyasn1>=0.1.3 in /usr/local/lib/python3.6/dist-packages (from rsa<=3.5.0,>=3.1.2->awscli->-r /content/OIDv4_ToolKit/requirements.txt (line 3)) (0.4.8)\n"
          ],
          "name": "stdout"
        }
      ]
    },
    {
      "cell_type": "markdown",
      "metadata": {
        "id": "HcWq5rswXJhz",
        "colab_type": "text"
      },
      "source": [
        "# 01. Dataset_Collection"
      ]
    },
    {
      "cell_type": "code",
      "metadata": {
        "id": "-Kd04WOSO-wY",
        "colab_type": "code",
        "outputId": "6d56e302-62e1-4c7b-a90e-125dabe614e6",
        "colab": {
          "base_uri": "https://localhost:8080/",
          "height": 799
        }
      },
      "source": [
        "!python /content/OIDv4_ToolKit/main.py downloader --classes Luggage_and_bags Handbag --type_csv validation"
      ],
      "execution_count": 0,
      "outputs": [
        {
          "output_type": "stream",
          "text": [
            "\u001b[92m\n",
            "\t\t   ___   _____  ______            _    _    \n",
            "\t\t .'   `.|_   _||_   _ `.         | |  | |   \n",
            "\t\t/  .-.  \\ | |    | | `. \\ _   __ | |__| |_  \n",
            "\t\t| |   | | | |    | |  | |[ \\ [  ]|____   _| \n",
            "\t\t\\  `-'  /_| |_  _| |_.' / \\ \\/ /     _| |_  \n",
            "\t\t `.___.'|_____||______.'   \\__/     |_____|\n",
            "\t\u001b[0m\n",
            "\u001b[92m\n",
            "             _____                    _                 _             \n",
            "            (____ \\                  | |               | |            \n",
            "             _   \\ \\ ___  _ _ _ ____ | | ___   ____  _ | | ____  ____ \n",
            "            | |   | / _ \\| | | |  _ \\| |/ _ \\ / _  |/ || |/ _  )/ ___)\n",
            "            | |__/ / |_| | | | | | | | | |_| ( ( | ( (_| ( (/ /| |    \n",
            "            |_____/ \\___/ \\____|_| |_|_|\\___/ \\_||_|\\____|\\____)_|    \n",
            "                                                          \n",
            "        \u001b[0m\n",
            "    [INFO] | Downloading Luggage and bags.\u001b[0m\n",
            "\u001b[91m   [ERROR] | Missing the class-descriptions-boxable.csv file.\u001b[0m\n",
            "\u001b[94m[DOWNLOAD] | Do you want to download the missing file? [Y/n] \u001b[0mY\n",
            "...145%, 0 MB, 39498 KB/s, 0 seconds passed\n",
            "\u001b[94m[DOWNLOAD] | File class-descriptions-boxable.csv downloaded into OID/csv_folder/class-descriptions-boxable.csv.\u001b[0m\n",
            "\u001b[91m   [ERROR] | Missing the validation-annotations-bbox.csv file.\u001b[0m\n",
            "\u001b[94m[DOWNLOAD] | Do you want to download the missing file? [Y/n] \u001b[0mY\n",
            "...100%, 16 MB, 35638 KB/s, 0 seconds passed\n",
            "\u001b[94m[DOWNLOAD] | File validation-annotations-bbox.csv downloaded into OID/csv_folder/validation-annotations-bbox.csv.\u001b[0m\n",
            "\n",
            "\u001b[95mLuggage and bags\u001b[0m\n",
            "    [INFO] | Downloading validation images.\u001b[0m\n",
            "    [INFO] | [INFO] Found 24 online images for validation.\u001b[0m\n",
            "    [INFO] | Download of 24 images in validation.\u001b[0m\n",
            "100% 24/24 [00:23<00:00,  7.65s/it]\n",
            "    [INFO] | Done!\u001b[0m\n",
            "    [INFO] | Creating labels for Luggage and bags of validation.\u001b[0m\n",
            "    [INFO] | Labels creation completed.\u001b[0m\n",
            "    [INFO] | Downloading Handbag.\u001b[0m\n",
            "\n",
            "\u001b[95mHandbag\u001b[0m\n",
            "    [INFO] | Downloading validation images.\u001b[0m\n",
            "    [INFO] | [INFO] Found 55 online images for validation.\u001b[0m\n",
            "    [INFO] | Download of 55 images in validation.\u001b[0m\n",
            "100% 55/55 [00:40<00:00,  1.36it/s]\n",
            "    [INFO] | Done!\u001b[0m\n",
            "    [INFO] | Creating labels for Handbag of validation.\u001b[0m\n",
            "    [INFO] | Labels creation completed.\u001b[0m\n"
          ],
          "name": "stdout"
        }
      ]
    },
    {
      "cell_type": "code",
      "metadata": {
        "id": "eEcc6yKyQV8G",
        "colab_type": "code",
        "outputId": "c3aa2187-2a6e-41f8-d628-cd970a129c07",
        "colab": {
          "base_uri": "https://localhost:8080/",
          "height": 729
        }
      },
      "source": [
        "!python /content/OIDv4_ToolKit/main.py downloader --classes Luggage_and_bags Handbag --type_csv train"
      ],
      "execution_count": 5,
      "outputs": [
        {
          "output_type": "stream",
          "text": [
            "\u001b[92m\n",
            "\t\t   ___   _____  ______            _    _    \n",
            "\t\t .'   `.|_   _||_   _ `.         | |  | |   \n",
            "\t\t/  .-.  \\ | |    | | `. \\ _   __ | |__| |_  \n",
            "\t\t| |   | | | |    | |  | |[ \\ [  ]|____   _| \n",
            "\t\t\\  `-'  /_| |_  _| |_.' / \\ \\/ /     _| |_  \n",
            "\t\t `.___.'|_____||______.'   \\__/     |_____|\n",
            "\t\u001b[0m\n",
            "\u001b[92m\n",
            "             _____                    _                 _             \n",
            "            (____ \\                  | |               | |            \n",
            "             _   \\ \\ ___  _ _ _ ____ | | ___   ____  _ | | ____  ____ \n",
            "            | |   | / _ \\| | | |  _ \\| |/ _ \\ / _  |/ || |/ _  )/ ___)\n",
            "            | |__/ / |_| | | | | | | | | |_| ( ( | ( (_| ( (/ /| |    \n",
            "            |_____/ \\___/ \\____|_| |_|_|\\___/ \\_||_|\\____|\\____)_|    \n",
            "                                                          \n",
            "        \u001b[0m\n",
            "    [INFO] | Downloading Luggage and bags.\u001b[0m\n",
            "\u001b[91m   [ERROR] | Missing the train-annotations-bbox.csv file.\u001b[0m\n",
            "\u001b[94m[DOWNLOAD] | Do you want to download the missing file? [Y/n] \u001b[0mY\n",
            "...100%, 1138 MB, 45803 KB/s, 25 seconds passed\n",
            "\u001b[94m[DOWNLOAD] | File train-annotations-bbox.csv downloaded into OID/csv_folder/train-annotations-bbox.csv.\u001b[0m\n",
            "\n",
            "\u001b[95mLuggage and bags\u001b[0m\n",
            "    [INFO] | Downloading train images.\u001b[0m\n",
            "    [INFO] | [INFO] Found 953 online images for train.\u001b[0m\n",
            "    [INFO] | Download of 953 images in train.\u001b[0m\n",
            "100% 953/953 [09:09<00:00,  1.73it/s]\n",
            "    [INFO] | Done!\u001b[0m\n",
            "    [INFO] | Creating labels for Luggage and bags of train.\u001b[0m\n",
            "    [INFO] | Labels creation completed.\u001b[0m\n",
            "    [INFO] | Downloading Handbag.\u001b[0m\n",
            "\n",
            "\u001b[95mHandbag\u001b[0m\n",
            "    [INFO] | Downloading train images.\u001b[0m\n",
            "    [INFO] | [INFO] Found 1901 online images for train.\u001b[0m\n",
            "    [INFO] | Download of 1901 images in train.\u001b[0m\n",
            "100% 1901/1901 [16:39<00:00,  4.84it/s]\n",
            "    [INFO] | Done!\u001b[0m\n",
            "    [INFO] | Creating labels for Handbag of train.\u001b[0m\n",
            "    [INFO] | Labels creation completed.\u001b[0m\n"
          ],
          "name": "stdout"
        }
      ]
    },
    {
      "cell_type": "markdown",
      "metadata": {
        "id": "ZkZft8wnXunC",
        "colab_type": "text"
      },
      "source": [
        "# 2. Data_Preparation"
      ]
    },
    {
      "cell_type": "code",
      "metadata": {
        "id": "QFlh0b2FzwJb",
        "colab_type": "code",
        "colab": {}
      },
      "source": [
        "import pandas as pd\n",
        "import numpy as np"
      ],
      "execution_count": 0,
      "outputs": []
    },
    {
      "cell_type": "code",
      "metadata": {
        "id": "JwyO-nLb0J5m",
        "colab_type": "code",
        "colab": {}
      },
      "source": [
        "train_path = '/content/OID/Dataset/train'\n",
        "valid_path = '/content/OID/Dataset/validation'"
      ],
      "execution_count": 0,
      "outputs": []
    },
    {
      "cell_type": "code",
      "metadata": {
        "id": "z9lyXjb30YQF",
        "colab_type": "code",
        "colab": {}
      },
      "source": [
        "train_df_path = '/content/OID/csv_folder/train-annotations-bbox.csv'\n",
        "valid_df_path = '/content/OID/csv_folder/validation-annotations-bbox.csv'\n",
        "\n",
        "class_description = '/content/OID/csv_folder/class-descriptions-boxable.csv'"
      ],
      "execution_count": 0,
      "outputs": []
    },
    {
      "cell_type": "code",
      "metadata": {
        "id": "F1Y9Js5m0r8x",
        "colab_type": "code",
        "outputId": "fcf758ad-8567-4c65-9dca-911d93f6669e",
        "colab": {
          "base_uri": "https://localhost:8080/",
          "height": 34
        }
      },
      "source": [
        "train_df = pd.read_csv(train_df_path)\n",
        "train_df.index"
      ],
      "execution_count": 11,
      "outputs": [
        {
          "output_type": "execute_result",
          "data": {
            "text/plain": [
              "RangeIndex(start=0, stop=14610229, step=1)"
            ]
          },
          "metadata": {
            "tags": []
          },
          "execution_count": 11
        }
      ]
    },
    {
      "cell_type": "code",
      "metadata": {
        "id": "zExzCnFd02gY",
        "colab_type": "code",
        "outputId": "5fede966-bf8f-4873-ed4c-78d9662ecf9b",
        "colab": {
          "base_uri": "https://localhost:8080/",
          "height": 295
        }
      },
      "source": [
        "!python3 /content/OIDv4_ToolKit/oid_to_pascal_voc_xml.py"
      ],
      "execution_count": 57,
      "outputs": [
        {
          "output_type": "stream",
          "text": [
            "Currently in Subdirectory: train\n",
            "['Handbag', '.ipynb_checkpoints', 'Luggage_and_bags']\n",
            "\n",
            "Creating PASCAL VOC XML Files for Class: Handbag\n",
            "100% 1901/1901 [00:29<00:00, 64.62it/s]\n",
            "\n",
            "Creating PASCAL VOC XML Files for Class: Luggage_and_bags\n",
            "100% 953/953 [00:14<00:00, 60.08it/s]\n",
            "Currently in Subdirectory: validation\n",
            "['Handbag', 'Luggage_and_bags']\n",
            "\n",
            "Creating PASCAL VOC XML Files for Class: Handbag\n",
            "100% 55/55 [00:00<00:00, 67.02it/s]\n",
            "\n",
            "Creating PASCAL VOC XML Files for Class: Luggage_and_bags\n",
            "100% 24/24 [00:00<00:00, 59.97it/s]\n"
          ],
          "name": "stdout"
        }
      ]
    },
    {
      "cell_type": "code",
      "metadata": {
        "id": "6WqLTxHB_cNy",
        "colab_type": "code",
        "colab": {}
      },
      "source": [
        "!python /content/OIDv4_ToolKit/voc_to_YOLOv3.py ## Training Change \n",
        "\n",
        "#dataset_train = '/content/OID/Dataset/train/'"
      ],
      "execution_count": 0,
      "outputs": []
    },
    {
      "cell_type": "code",
      "metadata": {
        "id": "zvX7u07FOAYi",
        "colab_type": "code",
        "colab": {
          "base_uri": "https://localhost:8080/",
          "height": 34
        },
        "outputId": "68d896ad-1cbc-4c8a-b2d7-8bee004f0caa"
      },
      "source": [
        "with open('/content/2_CLASS_train.txt', 'r') as f:\n",
        "  text = f.readlines()\n",
        "\n",
        "print(len(text))"
      ],
      "execution_count": 69,
      "outputs": [
        {
          "output_type": "stream",
          "text": [
            "2854\n"
          ],
          "name": "stdout"
        }
      ]
    },
    {
      "cell_type": "code",
      "metadata": {
        "id": "ft5w0jesVcL0",
        "colab_type": "code",
        "colab": {
          "base_uri": "https://localhost:8080/",
          "height": 34
        },
        "outputId": "a9bd84d2-91cc-40ab-c210-1ba413da5207"
      },
      "source": [
        "1901+953"
      ],
      "execution_count": 66,
      "outputs": [
        {
          "output_type": "execute_result",
          "data": {
            "text/plain": [
              "2854"
            ]
          },
          "metadata": {
            "tags": []
          },
          "execution_count": 66
        }
      ]
    },
    {
      "cell_type": "code",
      "metadata": {
        "id": "v8ZVIeIHbywz",
        "colab_type": "code",
        "colab": {}
      },
      "source": [
        "!python /content/OIDv4_ToolKit/voc_to_YOLOv3.py ## Validation\n",
        "\n",
        "#dataset_train = '/content/OID/Dataset/validation/'"
      ],
      "execution_count": 0,
      "outputs": []
    },
    {
      "cell_type": "code",
      "metadata": {
        "id": "lyYGoyKlcymF",
        "colab_type": "code",
        "colab": {
          "base_uri": "https://localhost:8080/",
          "height": 34
        },
        "outputId": "d91d7059-1e00-43e7-ba6f-fa19e9a27770"
      },
      "source": [
        "with open('/content/2_CLASS_validation.txt', 'r') as f:\n",
        "  text = f.readlines()\n",
        "\n",
        "print(len(text), 55+24)\n"
      ],
      "execution_count": 70,
      "outputs": [
        {
          "output_type": "stream",
          "text": [
            "79 79\n"
          ],
          "name": "stdout"
        }
      ]
    },
    {
      "cell_type": "code",
      "metadata": {
        "id": "_etSEsrudG_Q",
        "colab_type": "code",
        "colab": {}
      },
      "source": [
        "!cp -r '/content/OID' '/content/drive/My Drive'"
      ],
      "execution_count": 0,
      "outputs": []
    },
    {
      "cell_type": "code",
      "metadata": {
        "id": "EAgGXECcdiQs",
        "colab_type": "code",
        "colab": {}
      },
      "source": [
        ""
      ],
      "execution_count": 0,
      "outputs": []
    }
  ]
}