{
  "nbformat": 4,
  "nbformat_minor": 0,
  "metadata": {
    "colab": {
      "name": "ActionRecognition_kinetics600.ipynb",
      "provenance": [],
      "toc_visible": true
    },
    "kernelspec": {
      "name": "python3",
      "display_name": "Python 3"
    }
  },
  "cells": [
    {
      "cell_type": "code",
      "metadata": {
        "id": "98wKKXsajXwJ",
        "outputId": "12188a98-4c4a-4ffc-bc1a-0f19f4042ad0",
        "colab": {
          "base_uri": "https://localhost:8080/",
          "height": 144
        }
      },
      "source": [
        "!git clone https://github.com/OanaIgnat/i3d_keras.git"
      ],
      "execution_count": 2,
      "outputs": [
        {
          "output_type": "stream",
          "text": [
            "Cloning into 'i3d_keras'...\n",
            "remote: Enumerating objects: 47, done.\u001b[K\n",
            "remote: Counting objects: 100% (47/47), done.\u001b[K\n",
            "remote: Compressing objects: 100% (30/30), done.\u001b[K\n",
            "remote: Total 227 (delta 29), reused 31 (delta 16), pack-reused 180\u001b[K\n",
            "Receiving objects: 100% (227/227), 84.98 MiB | 28.54 MiB/s, done.\n",
            "Resolving deltas: 100% (97/97), done.\n"
          ],
          "name": "stdout"
        }
      ]
    },
    {
      "cell_type": "code",
      "metadata": {
        "id": "j_SO9sUPl1Id",
        "outputId": "59d119f1-b848-4d98-d32d-f5a2e9c4f337",
        "colab": {
          "base_uri": "https://localhost:8080/",
          "height": 35
        }
      },
      "source": [
        "%cd /content/i3d_keras"
      ],
      "execution_count": 1,
      "outputs": [
        {
          "output_type": "stream",
          "text": [
            "/content/i3d_keras\n"
          ],
          "name": "stdout"
        }
      ]
    },
    {
      "cell_type": "code",
      "metadata": {
        "id": "-A_RSV_ajrKu",
        "outputId": "1303d307-586c-4698-d9ec-f2f83f264dcd",
        "colab": {
          "base_uri": "https://localhost:8080/",
          "height": 1000
        }
      },
      "source": [
        "!bash main.sh"
      ],
      "execution_count": 4,
      "outputs": [
        {
          "output_type": "stream",
          "text": [
            "/content/i3d_keras\n",
            "ffmpeg version 3.4.8-0ubuntu0.2 Copyright (c) 2000-2020 the FFmpeg developers\n",
            "  built with gcc 7 (Ubuntu 7.5.0-3ubuntu1~18.04)\n",
            "  configuration: --prefix=/usr --extra-version=0ubuntu0.2 --toolchain=hardened --libdir=/usr/lib/x86_64-linux-gnu --incdir=/usr/include/x86_64-linux-gnu --enable-gpl --disable-stripping --enable-avresample --enable-avisynth --enable-gnutls --enable-ladspa --enable-libass --enable-libbluray --enable-libbs2b --enable-libcaca --enable-libcdio --enable-libflite --enable-libfontconfig --enable-libfreetype --enable-libfribidi --enable-libgme --enable-libgsm --enable-libmp3lame --enable-libmysofa --enable-libopenjpeg --enable-libopenmpt --enable-libopus --enable-libpulse --enable-librubberband --enable-librsvg --enable-libshine --enable-libsnappy --enable-libsoxr --enable-libspeex --enable-libssh --enable-libtheora --enable-libtwolame --enable-libvorbis --enable-libvpx --enable-libwavpack --enable-libwebp --enable-libx265 --enable-libxml2 --enable-libxvid --enable-libzmq --enable-libzvbi --enable-omx --enable-openal --enable-opengl --enable-sdl2 --enable-libdc1394 --enable-libdrm --enable-libiec61883 --enable-chromaprint --enable-frei0r --enable-libopencv --enable-libx264 --enable-shared\n",
            "  libavutil      55. 78.100 / 55. 78.100\n",
            "  libavcodec     57.107.100 / 57.107.100\n",
            "  libavformat    57. 83.100 / 57. 83.100\n",
            "  libavdevice    57. 10.100 / 57. 10.100\n",
            "  libavfilter     6.107.100 /  6.107.100\n",
            "  libavresample   3.  7.  0 /  3.  7.  0\n",
            "  libswscale      4.  8.100 /  4.  8.100\n",
            "  libswresample   2.  9.100 /  2.  9.100\n",
            "  libpostproc    54.  7.100 / 54.  7.100\n",
            "Input #0, avi, from 'data/input_videos/cricket.avi':\n",
            "  Metadata:\n",
            "    encoder         : MEncoder r34118-4.2.5\n",
            "  Duration: 00:00:03.20, start: 0.000000, bitrate: 791 kb/s\n",
            "    Stream #0:0: Video: mpeg4 (Simple Profile) (XVID / 0x44495658), yuv420p, 320x240 [SAR 1:1 DAR 4:3], 651 kb/s, 25 fps, 25 tbr, 25 tbn, 25 tbc\n",
            "    Stream #0:1: Audio: mp3 (U[0][0][0] / 0x0055), 44100 Hz, stereo, s16p, 129 kb/s\n",
            "Stream mapping:\n",
            "  Stream #0:0 -> #0:0 (mpeg4 (native) -> mjpeg (native))\n",
            "Press [q] to stop, [?] for help\n",
            "\u001b[1;34m[swscaler @ 0x5642e4c2a000] \u001b[0m\u001b[0;33mdeprecated pixel format used, make sure you did set range correctly\n",
            "\u001b[0mOutput #0, image2, to 'data/frames//frame_%05d.jpg':\n",
            "  Metadata:\n",
            "    encoder         : Lavf57.83.100\n",
            "    Stream #0:0: Video: mjpeg, yuvj420p(pc), 320x240 [SAR 1:1 DAR 4:3], q=2-31, 200 kb/s, 25 fps, 25 tbn, 25 tbc\n",
            "    Metadata:\n",
            "      encoder         : Lavc57.107.100 mjpeg\n",
            "    Side data:\n",
            "      cpb: bitrate max/min/avg: 0/0/200000 buffer size: 0 vbv_delay: -1\n",
            "frame=   80 fps=0.0 q=2.0 Lsize=N/A time=00:00:03.20 bitrate=N/A speed=22.1x    \n",
            "video:971kB audio:0kB subtitle:0kB other streams:0kB global headers:0kB muxing overhead: unknown\n",
            "2020-10-23 13:10:37.109719: I tensorflow/stream_executor/platform/default/dso_loader.cc:48] Successfully opened dynamic library libcudart.so.10.1\n",
            "2020-10-23 13:10:38.875080: I tensorflow/stream_executor/platform/default/dso_loader.cc:48] Successfully opened dynamic library libcuda.so.1\n",
            "2020-10-23 13:10:38.952747: E tensorflow/stream_executor/cuda/cuda_driver.cc:314] failed call to cuInit: CUDA_ERROR_NO_DEVICE: no CUDA-capable device is detected\n",
            "2020-10-23 13:10:38.952808: I tensorflow/stream_executor/cuda/cuda_diagnostics.cc:156] kernel driver does not appear to be running on this host (671aed1cfc6f): /proc/driver/nvidia/version does not exist\n",
            "2020-10-23 13:10:38.974723: I tensorflow/core/platform/profile_utils/cpu_utils.cc:104] CPU Frequency: 2300000000 Hz\n",
            "2020-10-23 13:10:38.975004: I tensorflow/compiler/xla/service/service.cc:168] XLA service 0x2d7ca00 initialized for platform Host (this does not guarantee that XLA will be used). Devices:\n",
            "2020-10-23 13:10:38.975049: I tensorflow/compiler/xla/service/service.cc:176]   StreamExecutor device (0): Host, Default Version\n",
            "Downloading data from https://github.com/dlpbc/keras-kinetics-i3d/releases/download/v0.2/rgb_inception_i3d_imagenet_and_kinetics_tf_dim_ordering_tf_kernels.h5\n",
            "51249152/51241584 [==============================] - 1s 0us/step\n",
            "/content/i3d_keras/src/i3d_inception.py:101: UserWarning: This model usually expects 1 or 3 input channels. However, it was passed an input_shape with 2 input channels.\n",
            "  str(input_shape[-1]) + ' input channels.')\n",
            "Downloading data from https://github.com/dlpbc/keras-kinetics-i3d/releases/download/v0.2/flow_inception_i3d_imagenet_and_kinetics_tf_dim_ordering_tf_kernels.h5\n",
            "51159040/51153776 [==============================] - 1s 0us/step\n",
            "\n",
            "Norm of logits: 144.034241\n",
            "\n",
            "Top 20 classes and probabilities\n",
            "0.9999996 38.70086 playing cricket\n",
            "3.2526185e-07 23.762224 hurling (sport)\n",
            "8.82453e-08 22.457714 playing tennis\n",
            "4.5480597e-09 19.492294 playing squash or racquetball\n",
            "4.257644e-09 19.42631 hitting baseball\n",
            "2.1000703e-09 18.719564 catching or throwing baseball\n",
            "7.6716455e-10 17.71254 catching or throwing softball\n",
            "3.830681e-10 17.018051 playing badminton\n",
            "3.4193762e-10 16.904467 shooting goal (soccer)\n",
            "3.0672903e-10 16.795803 dodgeball\n",
            "1.6208342e-10 16.15795 playing kickball\n",
            "6.809881e-11 15.290798 passing American football (in game)\n",
            "3.3622775e-11 14.585042 celebrating\n",
            "3.0167615e-11 14.476607 shot put\n",
            "2.2507099e-11 14.183669 hammer throw\n",
            "1.96655e-11 14.048704 tai chi\n",
            "1.7816503e-11 13.949964 sword fighting\n",
            "1.6390136e-11 13.866518 throwing discus\n",
            "1.1674024e-11 13.5272045 kicking field goal\n",
            "1.0559181e-11 13.426834 javelin throw\n",
            ": cannot connect to X server \n"
          ],
          "name": "stdout"
        }
      ]
    },
    {
      "cell_type": "code",
      "metadata": {
        "id": "a4ZsvhrRkxTq",
        "outputId": "0f3fd770-9d57-4c79-903b-ae4ef8cb6003",
        "colab": {
          "base_uri": "https://localhost:8080/",
          "height": 509
        }
      },
      "source": [
        "!pip install -r requirements.txt"
      ],
      "execution_count": 2,
      "outputs": [
        {
          "output_type": "stream",
          "text": [
            "Requirement already satisfied: opencv-contrib-python==4.1.0.25 in /usr/local/lib/python3.6/dist-packages (from -r requirements.txt (line 1)) (4.1.0.25)\n",
            "Requirement already satisfied: opencv-python==4.0.0.21 in /usr/local/lib/python3.6/dist-packages (from -r requirements.txt (line 2)) (4.0.0.21)\n",
            "Requirement already satisfied: numpy==1.16.0 in /usr/local/lib/python3.6/dist-packages (from -r requirements.txt (line 3)) (1.16.0)\n",
            "Requirement already satisfied: tensorflow==1.13.1 in /usr/local/lib/python3.6/dist-packages (from -r requirements.txt (line 4)) (1.13.1)\n",
            "Requirement already satisfied: Keras==2.2.4 in /usr/local/lib/python3.6/dist-packages (from -r requirements.txt (line 5)) (2.2.4)\n",
            "Requirement already satisfied: Keras-Applications==1.0.6 in /usr/local/lib/python3.6/dist-packages (from -r requirements.txt (line 6)) (1.0.6)\n",
            "Requirement already satisfied: Keras-Preprocessing==1.0.5 in /usr/local/lib/python3.6/dist-packages (from -r requirements.txt (line 7)) (1.0.5)\n",
            "Requirement already satisfied: tensorflow-estimator<1.14.0rc0,>=1.13.0 in /usr/local/lib/python3.6/dist-packages (from tensorflow==1.13.1->-r requirements.txt (line 4)) (1.13.0)\n",
            "Requirement already satisfied: grpcio>=1.8.6 in /usr/local/lib/python3.6/dist-packages (from tensorflow==1.13.1->-r requirements.txt (line 4)) (1.32.0)\n",
            "Requirement already satisfied: wheel>=0.26 in /usr/local/lib/python3.6/dist-packages (from tensorflow==1.13.1->-r requirements.txt (line 4)) (0.35.1)\n",
            "Requirement already satisfied: protobuf>=3.6.1 in /usr/local/lib/python3.6/dist-packages (from tensorflow==1.13.1->-r requirements.txt (line 4)) (3.12.4)\n",
            "Requirement already satisfied: astor>=0.6.0 in /usr/local/lib/python3.6/dist-packages (from tensorflow==1.13.1->-r requirements.txt (line 4)) (0.8.1)\n",
            "Requirement already satisfied: tensorboard<1.14.0,>=1.13.0 in /usr/local/lib/python3.6/dist-packages (from tensorflow==1.13.1->-r requirements.txt (line 4)) (1.13.1)\n",
            "Requirement already satisfied: absl-py>=0.1.6 in /usr/local/lib/python3.6/dist-packages (from tensorflow==1.13.1->-r requirements.txt (line 4)) (0.10.0)\n",
            "Requirement already satisfied: gast>=0.2.0 in /usr/local/lib/python3.6/dist-packages (from tensorflow==1.13.1->-r requirements.txt (line 4)) (0.3.3)\n",
            "Requirement already satisfied: six>=1.10.0 in /usr/local/lib/python3.6/dist-packages (from tensorflow==1.13.1->-r requirements.txt (line 4)) (1.15.0)\n",
            "Requirement already satisfied: termcolor>=1.1.0 in /usr/local/lib/python3.6/dist-packages (from tensorflow==1.13.1->-r requirements.txt (line 4)) (1.1.0)\n",
            "Requirement already satisfied: scipy>=0.14 in /usr/local/lib/python3.6/dist-packages (from Keras==2.2.4->-r requirements.txt (line 5)) (1.4.1)\n",
            "Requirement already satisfied: h5py in /usr/local/lib/python3.6/dist-packages (from Keras==2.2.4->-r requirements.txt (line 5)) (2.10.0)\n",
            "Requirement already satisfied: pyyaml in /usr/local/lib/python3.6/dist-packages (from Keras==2.2.4->-r requirements.txt (line 5)) (3.13)\n",
            "Requirement already satisfied: mock>=2.0.0 in /usr/local/lib/python3.6/dist-packages (from tensorflow-estimator<1.14.0rc0,>=1.13.0->tensorflow==1.13.1->-r requirements.txt (line 4)) (4.0.2)\n",
            "Requirement already satisfied: setuptools in /usr/local/lib/python3.6/dist-packages (from protobuf>=3.6.1->tensorflow==1.13.1->-r requirements.txt (line 4)) (50.3.0)\n",
            "Requirement already satisfied: markdown>=2.6.8 in /usr/local/lib/python3.6/dist-packages (from tensorboard<1.14.0,>=1.13.0->tensorflow==1.13.1->-r requirements.txt (line 4)) (3.2.2)\n",
            "Requirement already satisfied: werkzeug>=0.11.15 in /usr/local/lib/python3.6/dist-packages (from tensorboard<1.14.0,>=1.13.0->tensorflow==1.13.1->-r requirements.txt (line 4)) (1.0.1)\n",
            "Requirement already satisfied: importlib-metadata; python_version < \"3.8\" in /usr/local/lib/python3.6/dist-packages (from markdown>=2.6.8->tensorboard<1.14.0,>=1.13.0->tensorflow==1.13.1->-r requirements.txt (line 4)) (2.0.0)\n",
            "Requirement already satisfied: zipp>=0.5 in /usr/local/lib/python3.6/dist-packages (from importlib-metadata; python_version < \"3.8\"->markdown>=2.6.8->tensorboard<1.14.0,>=1.13.0->tensorflow==1.13.1->-r requirements.txt (line 4)) (3.2.0)\n"
          ],
          "name": "stdout"
        }
      ]
    },
    {
      "cell_type": "markdown",
      "metadata": {
        "id": "rpebZpFzmiXH"
      },
      "source": [
        "# **`INPUT : CRICKET_PLAYING_VIDEOS`**\n",
        "\n"
      ]
    },
    {
      "cell_type": "markdown",
      "metadata": {
        "id": "AhGT9wqwmHBt"
      },
      "source": [
        "##**`1. RGB with I3D without Imagenet Pretrained`**"
      ]
    },
    {
      "cell_type": "code",
      "metadata": {
        "id": "RGDRkT_olPIp",
        "outputId": "fbb74280-812b-4193-e215-232c63cd738b",
        "colab": {
          "base_uri": "https://localhost:8080/",
          "height": 673
        }
      },
      "source": [
        "# RGB I3d Inception model pretrained on kinetics dataset only\n",
        "!python ./src/evaluate_sample.py --eval-type rgb --no-imagenet-pretrained"
      ],
      "execution_count": 8,
      "outputs": [
        {
          "output_type": "stream",
          "text": [
            "Using TensorFlow backend.\n",
            "WARNING:tensorflow:From /usr/local/lib/python3.6/dist-packages/tensorflow/python/framework/op_def_library.py:263: colocate_with (from tensorflow.python.framework.ops) is deprecated and will be removed in a future version.\n",
            "Instructions for updating:\n",
            "Colocations handled automatically by placer.\n",
            "Downloading data from https://github.com/dlpbc/keras-kinetics-i3d/releases/download/v0.2/rgb_inception_i3d_kinetics_only_tf_dim_ordering_tf_kernels.h5\n",
            "51249152/51241584 [==============================] - 1s 0us/step\n",
            "2020-10-23 13:32:51.300621: I tensorflow/core/platform/cpu_feature_guard.cc:141] Your CPU supports instructions that this TensorFlow binary was not compiled to use: AVX2 FMA\n",
            "2020-10-23 13:32:51.306131: I tensorflow/core/platform/profile_utils/cpu_utils.cc:94] CPU Frequency: 2300000000 Hz\n",
            "2020-10-23 13:32:51.306451: I tensorflow/compiler/xla/service/service.cc:150] XLA service 0xe1c4580 executing computations on platform Host. Devices:\n",
            "2020-10-23 13:32:51.306496: I tensorflow/compiler/xla/service/service.cc:158]   StreamExecutor device (0): <undefined>, <undefined>\n",
            "tcmalloc: large alloc 1284718592 bytes == 0x28206000 @  0x7f23b50201e7 0x7f23a23fa705 0x7f23a244622f 0x7f23a2446e3e 0x7f23a2460532 0x7f239c960e02 0x7f239c953970 0x7f239c9d2996 0x7f239c9d1854 0x7f23b3902a50 0x7f23b49e46db 0x7f23b4d1da3f\n",
            "\n",
            "Norm of logits: 76.492493\n",
            "\n",
            "Top 20 classes and probabilities\n",
            "0.61818147 12.533532 playing cricket\n",
            "0.08202599 10.513786 playing tennis\n",
            "0.040080227 9.797633 jogging\n",
            "0.036994725 9.7175255 hurling (sport)\n",
            "0.03528204 9.670124 skipping rope\n",
            "0.02900821 9.474329 playing badminton\n",
            "0.026488936 9.383477 zumba\n",
            "0.016946241 8.936796 cheerleading\n",
            "0.012820467 8.657793 playing squash or racquetball\n",
            "0.010888915 8.494495 breakdancing\n",
            "0.010082564 8.417558 shooting goal (soccer)\n",
            "0.009210139 8.327055 playing volleyball\n",
            "0.0075942026 8.134135 dodgeball\n",
            "0.0063114697 7.9491186 skateboarding\n",
            "0.0057975906 7.8641925 playing basketball\n",
            "0.005660943 7.8403406 marching\n",
            "0.0048402743 7.6837215 doing aerobics\n",
            "0.0035712281 7.3796597 tap dancing\n",
            "0.0035317838 7.368553 jumpstyle dancing\n",
            "0.003198619 7.2694693 dunking basketball\n"
          ],
          "name": "stdout"
        }
      ]
    },
    {
      "cell_type": "markdown",
      "metadata": {
        "id": "EhSh0B79qa5v"
      },
      "source": [
        "## **`2. I3D with OpticalFlow`**"
      ]
    },
    {
      "cell_type": "code",
      "metadata": {
        "id": "k_ISDX1eqHIY",
        "outputId": "a9a7fd1b-3dc9-4643-a0ce-3fa23112f1ff",
        "colab": {
          "base_uri": "https://localhost:8080/",
          "height": 673
        }
      },
      "source": [
        "# For Optical Flow\n",
        "!python ./src/evaluate_sample.py --eval-type flow"
      ],
      "execution_count": 9,
      "outputs": [
        {
          "output_type": "stream",
          "text": [
            "Using TensorFlow backend.\n",
            "/content/i3d_keras/src/i3d_inception.py:101: UserWarning: This model usually expects 1 or 3 input channels. However, it was passed an input_shape with 2 input channels.\n",
            "  str(input_shape[-1]) + ' input channels.')\n",
            "WARNING:tensorflow:From /usr/local/lib/python3.6/dist-packages/tensorflow/python/framework/op_def_library.py:263: colocate_with (from tensorflow.python.framework.ops) is deprecated and will be removed in a future version.\n",
            "Instructions for updating:\n",
            "Colocations handled automatically by placer.\n",
            "2020-10-23 13:34:57.243213: I tensorflow/core/platform/cpu_feature_guard.cc:141] Your CPU supports instructions that this TensorFlow binary was not compiled to use: AVX2 FMA\n",
            "2020-10-23 13:34:57.247968: I tensorflow/core/platform/profile_utils/cpu_utils.cc:94] CPU Frequency: 2300000000 Hz\n",
            "2020-10-23 13:34:57.248254: I tensorflow/compiler/xla/service/service.cc:150] XLA service 0xdbc2160 executing computations on platform Host. Devices:\n",
            "2020-10-23 13:34:57.248294: I tensorflow/compiler/xla/service/service.cc:158]   StreamExecutor device (0): <undefined>, <undefined>\n",
            "tcmalloc: large alloc 1284718592 bytes == 0x22ed4000 @  0x7f88c1d001e7 0x7f88af0da705 0x7f88af12622f 0x7f88af126e3e 0x7f88af140532 0x7f88a9640e02 0x7f88a9633970 0x7f88a96b2996 0x7f88a96b1854 0x7f88c05e2a50 0x7f88c16c46db 0x7f88c19fda3f\n",
            "\n",
            "Norm of logits: 73.745598\n",
            "\n",
            "Top 20 classes and probabilities\n",
            "0.9127449 17.645582 playing cricket\n",
            "0.06479453 15.000347 hurling (sport)\n",
            "0.00813739 12.925595 playing tennis\n",
            "0.005242727 12.485968 hitting baseball\n",
            "0.0049079726 12.419987 sword fighting\n",
            "0.0013232349 11.109205 catching or throwing softball\n",
            "0.001081277 10.907269 playing squash or racquetball\n",
            "0.0009906555 10.819737 catching or throwing baseball\n",
            "0.00022599462 9.341882 playing badminton\n",
            "8.718346e-05 8.389385 catching or throwing frisbee\n",
            "5.5158267e-05 7.931577 tai chi\n",
            "4.6128036e-05 7.7527914 passing American football (in game)\n",
            "3.948534e-05 7.5973 playing kickball\n",
            "3.031754e-05 7.333097 high kick\n",
            "2.7595235e-05 7.2390137 dodgeball\n",
            "2.7242197e-05 7.2261376 pumping fist\n",
            "2.4092004e-05 7.1032505 hammer throw\n",
            "2.3779348e-05 7.090188 passing American football (not in game)\n",
            "1.796086e-05 6.8095655 shooting goal (soccer)\n",
            "1.6315158e-05 6.713465 throwing ball\n"
          ],
          "name": "stdout"
        }
      ]
    },
    {
      "cell_type": "markdown",
      "metadata": {
        "id": "riSXCVXzq_uh"
      },
      "source": [
        "## **`3. RGB with I3D`**"
      ]
    },
    {
      "cell_type": "code",
      "metadata": {
        "id": "_EmNg526q_IP",
        "outputId": "1438dec6-d9b1-46b1-93fa-dde44669f1e0",
        "colab": {
          "base_uri": "https://localhost:8080/",
          "height": 637
        }
      },
      "source": [
        "# For Optical Flow\n",
        "!python ./src/evaluate_sample.py --eval-type rgb"
      ],
      "execution_count": 10,
      "outputs": [
        {
          "output_type": "stream",
          "text": [
            "Using TensorFlow backend.\n",
            "WARNING:tensorflow:From /usr/local/lib/python3.6/dist-packages/tensorflow/python/framework/op_def_library.py:263: colocate_with (from tensorflow.python.framework.ops) is deprecated and will be removed in a future version.\n",
            "Instructions for updating:\n",
            "Colocations handled automatically by placer.\n",
            "2020-10-23 13:38:03.104981: I tensorflow/core/platform/cpu_feature_guard.cc:141] Your CPU supports instructions that this TensorFlow binary was not compiled to use: AVX2 FMA\n",
            "2020-10-23 13:38:03.108748: I tensorflow/core/platform/profile_utils/cpu_utils.cc:94] CPU Frequency: 2300000000 Hz\n",
            "2020-10-23 13:38:03.109019: I tensorflow/compiler/xla/service/service.cc:150] XLA service 0xee04160 executing computations on platform Host. Devices:\n",
            "2020-10-23 13:38:03.109057: I tensorflow/compiler/xla/service/service.cc:158]   StreamExecutor device (0): <undefined>, <undefined>\n",
            "tcmalloc: large alloc 1284718592 bytes == 0x28e54000 @  0x7f74887cd1e7 0x7f7475ba7705 0x7f7475bf322f 0x7f7475bf3e3e 0x7f7475c0d532 0x7f747010de02 0x7f7470100970 0x7f747017f996 0x7f747017e854 0x7f74870afa50 0x7f74881916db 0x7f74884caa3f\n",
            "\n",
            "Norm of logits: 82.684219\n",
            "\n",
            "Top 20 classes and probabilities\n",
            "0.9998653 21.05529 playing cricket\n",
            "1.7374288e-05 10.094906 shooting goal (soccer)\n",
            "1.3828654e-05 9.866657 hopscotch\n",
            "1.1860354e-05 9.713116 marching\n",
            "1.1071187e-05 9.64426 triple jump\n",
            "1.0143983e-05 9.556795 dodgeball\n",
            "9.896749e-06 9.532121 playing tennis\n",
            "6.0233424e-06 9.035557 celebrating\n",
            "4.5812253e-06 8.761881 hurling (sport)\n",
            "4.1975986e-06 8.674427 javelin throw\n",
            "3.8385847e-06 8.585018 playing squash or racquetball\n",
            "3.7462005e-06 8.560657 playing kickball\n",
            "3.7111286e-06 8.55125 hurdling\n",
            "3.0526621e-06 8.355928 kicking field goal\n",
            "2.825104e-06 8.27846 skateboarding\n",
            "2.6385326e-06 8.210137 throwing discus\n",
            "2.48543e-06 8.15036 cheerleading\n",
            "2.1033288e-06 7.9834356 golf putting\n",
            "1.9346398e-06 7.8998356 catching or throwing baseball\n",
            "1.8840268e-06 7.873326 shot put\n"
          ],
          "name": "stdout"
        }
      ]
    },
    {
      "cell_type": "markdown",
      "metadata": {
        "id": "eGUX-RJRrqv6"
      },
      "source": [
        "## **`4. Two-Stream with I3D`**"
      ]
    },
    {
      "cell_type": "code",
      "metadata": {
        "id": "XDicSS61rqIP",
        "outputId": "dbef2cb5-2c1f-4562-83a0-af832cc1bd9a",
        "colab": {
          "base_uri": "https://localhost:8080/",
          "height": 691
        }
      },
      "source": [
        "# For Two-Stream I3D\n",
        "!python ./src/evaluate_sample.py"
      ],
      "execution_count": 11,
      "outputs": [
        {
          "output_type": "stream",
          "text": [
            "Using TensorFlow backend.\n",
            "WARNING:tensorflow:From /usr/local/lib/python3.6/dist-packages/tensorflow/python/framework/op_def_library.py:263: colocate_with (from tensorflow.python.framework.ops) is deprecated and will be removed in a future version.\n",
            "Instructions for updating:\n",
            "Colocations handled automatically by placer.\n",
            "2020-10-23 13:40:41.602385: I tensorflow/core/platform/cpu_feature_guard.cc:141] Your CPU supports instructions that this TensorFlow binary was not compiled to use: AVX2 FMA\n",
            "2020-10-23 13:40:41.606339: I tensorflow/core/platform/profile_utils/cpu_utils.cc:94] CPU Frequency: 2300000000 Hz\n",
            "2020-10-23 13:40:41.606625: I tensorflow/compiler/xla/service/service.cc:150] XLA service 0xfdfa160 executing computations on platform Host. Devices:\n",
            "2020-10-23 13:40:41.606664: I tensorflow/compiler/xla/service/service.cc:158]   StreamExecutor device (0): <undefined>, <undefined>\n",
            "tcmalloc: large alloc 1284718592 bytes == 0x29e4a000 @  0x7f6c5e54e1e7 0x7f6c4b928705 0x7f6c4b97422f 0x7f6c4b974e3e 0x7f6c4b98e532 0x7f6c45e8ee02 0x7f6c45e81970 0x7f6c45f00996 0x7f6c45eff854 0x7f6c5ce30a50 0x7f6c5df126db 0x7f6c5e24ba3f\n",
            "/content/i3d_keras/src/i3d_inception.py:101: UserWarning: This model usually expects 1 or 3 input channels. However, it was passed an input_shape with 2 input channels.\n",
            "  str(input_shape[-1]) + ' input channels.')\n",
            "tcmalloc: large alloc 1284718592 bytes == 0x3300c000 @  0x7f6c5e54e1e7 0x7f6c4b928705 0x7f6c4b97422f 0x7f6c4b974e3e 0x7f6c4b98e532 0x7f6c45e8ee02 0x7f6c45e81970 0x7f6c45f00996 0x7f6c45eff854 0x7f6c5ce30a50 0x7f6c5df126db 0x7f6c5e24ba3f\n",
            "\n",
            "Norm of logits: 144.034286\n",
            "\n",
            "Top 20 classes and probabilities\n",
            "0.9999996 38.700874 playing cricket\n",
            "3.2525813e-07 23.762228 hurling (sport)\n",
            "8.824412e-08 22.457716 playing tennis\n",
            "4.547956e-09 19.492287 playing squash or racquetball\n",
            "4.257603e-09 19.426315 hitting baseball\n",
            "2.1000581e-09 18.719574 catching or throwing baseball\n",
            "7.671558e-10 17.712543 catching or throwing softball\n",
            "3.830608e-10 17.018047 playing badminton\n",
            "3.4193437e-10 16.904472 shooting goal (soccer)\n",
            "3.0672612e-10 16.795809 dodgeball\n",
            "1.6208218e-10 16.157957 playing kickball\n",
            "6.809785e-11 15.290799 passing American football (in game)\n",
            "3.362223e-11 14.585041 celebrating\n",
            "3.0167153e-11 14.476607 shot put\n",
            "2.2506778e-11 14.18367 hammer throw\n",
            "1.966535e-11 14.048712 tai chi\n",
            "1.7816216e-11 13.949963 sword fighting\n",
            "1.6389917e-11 13.86652 throwing discus\n",
            "1.1673846e-11 13.5272045 kicking field goal\n",
            "1.0559041e-11 13.426836 javelin throw\n"
          ],
          "name": "stdout"
        }
      ]
    },
    {
      "cell_type": "markdown",
      "metadata": {
        "id": "Qjy_5532sa-I"
      },
      "source": [
        "## **`5. Flow with I3D without Imagenet Pre-Trained`**"
      ]
    },
    {
      "cell_type": "code",
      "metadata": {
        "id": "WX36CGgOqzt8",
        "outputId": "e54c8825-43e3-4598-fddc-ccb9aeb85e1c",
        "colab": {
          "base_uri": "https://localhost:8080/",
          "height": 709
        }
      },
      "source": [
        "# flow I3d Inception model pretrained on kinetics dataset only\n",
        "!python ./src/evaluate_sample.py --eval-type flow --no-imagenet-pretrained"
      ],
      "execution_count": 12,
      "outputs": [
        {
          "output_type": "stream",
          "text": [
            "Using TensorFlow backend.\n",
            "/content/i3d_keras/src/i3d_inception.py:101: UserWarning: This model usually expects 1 or 3 input channels. However, it was passed an input_shape with 2 input channels.\n",
            "  str(input_shape[-1]) + ' input channels.')\n",
            "WARNING:tensorflow:From /usr/local/lib/python3.6/dist-packages/tensorflow/python/framework/op_def_library.py:263: colocate_with (from tensorflow.python.framework.ops) is deprecated and will be removed in a future version.\n",
            "Instructions for updating:\n",
            "Colocations handled automatically by placer.\n",
            "Downloading data from https://github.com/dlpbc/keras-kinetics-i3d/releases/download/v0.2/flow_inception_i3d_kinetics_only_tf_dim_ordering_tf_kernels.h5\n",
            "51159040/51153776 [==============================] - 1s 0us/step\n",
            "2020-10-23 13:42:49.653765: I tensorflow/core/platform/cpu_feature_guard.cc:141] Your CPU supports instructions that this TensorFlow binary was not compiled to use: AVX2 FMA\n",
            "2020-10-23 13:42:49.657540: I tensorflow/core/platform/profile_utils/cpu_utils.cc:94] CPU Frequency: 2300000000 Hz\n",
            "2020-10-23 13:42:49.657775: I tensorflow/compiler/xla/service/service.cc:150] XLA service 0xd558580 executing computations on platform Host. Devices:\n",
            "2020-10-23 13:42:49.657811: I tensorflow/compiler/xla/service/service.cc:158]   StreamExecutor device (0): <undefined>, <undefined>\n",
            "tcmalloc: large alloc 1284718592 bytes == 0x2469a000 @  0x7f34bfe8c1e7 0x7f34ad266705 0x7f34ad2b222f 0x7f34ad2b2e3e 0x7f34ad2cc532 0x7f34a77cce02 0x7f34a77bf970 0x7f34a783e996 0x7f34a783d854 0x7f34be76ea50 0x7f34bf8506db 0x7f34bfb89a3f\n",
            "\n",
            "Norm of logits: 93.215302\n",
            "\n",
            "Top 20 classes and probabilities\n",
            "0.44394407 16.374529 playing cricket\n",
            "0.27357826 15.890418 hitting baseball\n",
            "0.12511048 15.108027 catching or throwing softball\n",
            "0.06454332 14.446167 hurling (sport)\n",
            "0.035348985 13.8441 catching or throwing baseball\n",
            "0.022837237 13.407223 passing American football (in game)\n",
            "0.006865109 12.205282 sword fighting\n",
            "0.0044233473 11.765727 playing tennis\n",
            "0.0036292446 11.567855 shooting goal (soccer)\n",
            "0.0032124086 11.445851 playing kickball\n",
            "0.0031616369 11.42992 javelin throw\n",
            "0.0019778376 10.9608345 playing badminton\n",
            "0.0018702804 10.904919 kicking field goal\n",
            "0.001852186 10.895197 passing American football (not in game)\n",
            "0.0017369968 10.830988 shot put\n",
            "0.001693024 10.8053465 dodgeball\n",
            "0.000823518 10.084661 catching or throwing frisbee\n",
            "0.0004652873 9.51373 throwing discus\n",
            "0.00043160762 9.438592 playing volleyball\n",
            "0.00040120102 9.365538 high kick\n"
          ],
          "name": "stdout"
        }
      ]
    },
    {
      "cell_type": "markdown",
      "metadata": {
        "id": "BgXUGGfWtB_b"
      },
      "source": [
        "# **`Results`**"
      ]
    },
    {
      "cell_type": "code",
      "metadata": {
        "id": "Xzwk30-CtH0P",
        "outputId": "a617a358-df71-4588-a618-ac99572d9402",
        "colab": {
          "base_uri": "https://localhost:8080/",
          "height": 108
        }
      },
      "source": [
        "from prettytable import PrettyTable as pt\n",
        "\n",
        "x = pt()\n",
        "x.field_names = [\"Propability\", \"RGB_Imagenet_without_pretrained\", \"FLOW_Imagenet_without_pretrained\", \"RGB_I3D\", \"Flow_I3D\", \"2_Stream\"]\n",
        "x.add_row([\"Confidence\", \"61%\", \"44%\", \"91%\", \"99%\", \"99%\"])\n",
        "print(x)"
      ],
      "execution_count": 15,
      "outputs": [
        {
          "output_type": "stream",
          "text": [
            "+-------------+---------------------------------+----------------------------------+---------+----------+----------+\n",
            "| Propability | RGB_Imagenet_without_pretrained | FLOW_Imagenet_without_pretrained | RGB_I3D | Flow_I3D | 2_Stream |\n",
            "+-------------+---------------------------------+----------------------------------+---------+----------+----------+\n",
            "|  Confidence |               61%               |               44%                |   91%   |   99%    |   99%    |\n",
            "+-------------+---------------------------------+----------------------------------+---------+----------+----------+\n"
          ],
          "name": "stdout"
        }
      ]
    }
  ]
}