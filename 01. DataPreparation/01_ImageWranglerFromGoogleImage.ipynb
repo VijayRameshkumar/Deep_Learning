{
  "nbformat": 4,
  "nbformat_minor": 0,
  "metadata": {
    "colab": {
      "name": "01. ImageWranglerFromGoogleImage.ipynb",
      "provenance": [],
      "toc_visible": true,
      "include_colab_link": true
    },
    "kernelspec": {
      "name": "python3",
      "display_name": "Python 3"
    }
  },
  "cells": [
    {
      "cell_type": "markdown",
      "metadata": {
        "id": "view-in-github",
        "colab_type": "text"
      },
      "source": [
        "<a href=\"https://colab.research.google.com/github/Juzz4vijay/Deep_Learning/blob/master/01.%20DataPreparation/01_ImageWranglerFromGoogleImage.ipynb\" target=\"_parent\"><img src=\"https://colab.research.google.com/assets/colab-badge.svg\" alt=\"Open In Colab\"/></a>"
      ]
    },
    {
      "cell_type": "code",
      "metadata": {
        "id": "WO-Barfly9IO",
        "colab_type": "code",
        "outputId": "b76833e5-0ac6-41d7-c777-d0115a6a7135",
        "colab": {
          "base_uri": "https://localhost:8080/",
          "height": 34
        }
      },
      "source": [
        "from google.colab import drive\n",
        "drive.mount('/content/drive')"
      ],
      "execution_count": 1,
      "outputs": [
        {
          "output_type": "stream",
          "text": [
            "Drive already mounted at /content/drive; to attempt to forcibly remount, call drive.mount(\"/content/drive\", force_remount=True).\n"
          ],
          "name": "stdout"
        }
      ]
    },
    {
      "cell_type": "markdown",
      "metadata": {
        "id": "O15EStOr3c7m",
        "colab_type": "text"
      },
      "source": [
        "# **1. Google Image Downloader**"
      ]
    },
    {
      "cell_type": "code",
      "metadata": {
        "id": "7dtnD0lK2mmn",
        "colab_type": "code",
        "outputId": "455da444-f639-41e2-f10a-3b6e0bee2156",
        "colab": {
          "base_uri": "https://localhost:8080/",
          "height": 102
        }
      },
      "source": [
        "!git clone https://github.com/hardikvasa/google-images-download.git"
      ],
      "execution_count": 2,
      "outputs": [
        {
          "output_type": "stream",
          "text": [
            "Cloning into 'google-images-download'...\n",
            "remote: Enumerating objects: 604, done.\u001b[K\n",
            "Receiving objects:   0% (1/604)   \rReceiving objects:   1% (7/604)   \rReceiving objects:   2% (13/604)   \rReceiving objects:   3% (19/604)   \rReceiving objects:   4% (25/604)   \rReceiving objects:   5% (31/604)   \rReceiving objects:   6% (37/604)   \rReceiving objects:   7% (43/604)   \rReceiving objects:   8% (49/604)   \rReceiving objects:   9% (55/604)   \rReceiving objects:  10% (61/604)   \rReceiving objects:  11% (67/604)   \rReceiving objects:  12% (73/604)   \rReceiving objects:  13% (79/604)   \rReceiving objects:  14% (85/604)   \rReceiving objects:  15% (91/604)   \rReceiving objects:  16% (97/604)   \rReceiving objects:  17% (103/604)   \rReceiving objects:  18% (109/604)   \rReceiving objects:  19% (115/604)   \rReceiving objects:  20% (121/604)   \rReceiving objects:  21% (127/604)   \rReceiving objects:  22% (133/604)   \rReceiving objects:  23% (139/604)   \rReceiving objects:  24% (145/604)   \rReceiving objects:  25% (151/604)   \rReceiving objects:  26% (158/604)   \rReceiving objects:  27% (164/604)   \rReceiving objects:  28% (170/604)   \rReceiving objects:  29% (176/604)   \rReceiving objects:  30% (182/604)   \rReceiving objects:  31% (188/604)   \rReceiving objects:  32% (194/604)   \rReceiving objects:  33% (200/604)   \rReceiving objects:  34% (206/604)   \rReceiving objects:  35% (212/604)   \rReceiving objects:  36% (218/604)   \rReceiving objects:  37% (224/604)   \rReceiving objects:  38% (230/604)   \rReceiving objects:  39% (236/604)   \rReceiving objects:  40% (242/604)   \rReceiving objects:  41% (248/604)   \rReceiving objects:  42% (254/604)   \rReceiving objects:  43% (260/604)   \rReceiving objects:  44% (266/604)   \rReceiving objects:  45% (272/604)   \rReceiving objects:  46% (278/604)   \rReceiving objects:  47% (284/604)   \rReceiving objects:  48% (290/604)   \rReceiving objects:  49% (296/604)   \rReceiving objects:  50% (302/604)   \rReceiving objects:  51% (309/604)   \rReceiving objects:  52% (315/604)   \rReceiving objects:  53% (321/604)   \rReceiving objects:  54% (327/604)   \rReceiving objects:  55% (333/604)   \rReceiving objects:  56% (339/604)   \rReceiving objects:  57% (345/604)   \rReceiving objects:  58% (351/604)   \rReceiving objects:  59% (357/604)   \rReceiving objects:  60% (363/604)   \rReceiving objects:  61% (369/604)   \rReceiving objects:  62% (375/604)   \rReceiving objects:  63% (381/604)   \rReceiving objects:  64% (387/604)   \rReceiving objects:  65% (393/604)   \rReceiving objects:  66% (399/604)   \rReceiving objects:  67% (405/604)   \rReceiving objects:  68% (411/604)   \rReceiving objects:  69% (417/604)   \rReceiving objects:  70% (423/604)   \rReceiving objects:  71% (429/604)   \rReceiving objects:  72% (435/604)   \rReceiving objects:  73% (441/604)   \rReceiving objects:  74% (447/604)   \rReceiving objects:  75% (453/604)   \rReceiving objects:  76% (460/604)   \rReceiving objects:  77% (466/604)   \rReceiving objects:  78% (472/604)   \rReceiving objects:  79% (478/604)   \rReceiving objects:  80% (484/604)   \rReceiving objects:  81% (490/604)   \rReceiving objects:  82% (496/604)   \rReceiving objects:  83% (502/604)   \rremote: Total 604 (delta 0), reused 0 (delta 0), pack-reused 604\u001b[K\n",
            "Receiving objects:  84% (508/604)   \rReceiving objects:  85% (514/604)   \rReceiving objects:  86% (520/604)   \rReceiving objects:  87% (526/604)   \rReceiving objects:  88% (532/604)   \rReceiving objects:  89% (538/604)   \rReceiving objects:  90% (544/604)   \rReceiving objects:  91% (550/604)   \rReceiving objects:  92% (556/604)   \rReceiving objects:  93% (562/604)   \rReceiving objects:  94% (568/604)   \rReceiving objects:  95% (574/604)   \rReceiving objects:  96% (580/604)   \rReceiving objects:  97% (586/604)   \rReceiving objects:  98% (592/604)   \rReceiving objects:  99% (598/604)   \rReceiving objects: 100% (604/604)   \rReceiving objects: 100% (604/604), 254.99 KiB | 942.00 KiB/s, done.\n",
            "Resolving deltas:   0% (0/349)   \rResolving deltas:   1% (5/349)   \rResolving deltas:   2% (7/349)   \rResolving deltas:   3% (12/349)   \rResolving deltas:   4% (16/349)   \rResolving deltas:   5% (18/349)   \rResolving deltas:   6% (21/349)   \rResolving deltas:   7% (25/349)   \rResolving deltas:   8% (30/349)   \rResolving deltas:  10% (37/349)   \rResolving deltas:  13% (48/349)   \rResolving deltas:  14% (49/349)   \rResolving deltas:  17% (60/349)   \rResolving deltas:  26% (93/349)   \rResolving deltas:  34% (120/349)   \rResolving deltas:  36% (128/349)   \rResolving deltas:  37% (132/349)   \rResolving deltas:  38% (133/349)   \rResolving deltas:  43% (153/349)   \rResolving deltas:  46% (161/349)   \rResolving deltas:  47% (166/349)   \rResolving deltas:  48% (168/349)   \rResolving deltas:  54% (189/349)   \rResolving deltas:  55% (195/349)   \rResolving deltas:  60% (210/349)   \rResolving deltas:  63% (220/349)   \rResolving deltas:  66% (232/349)   \rResolving deltas:  68% (239/349)   \rResolving deltas:  72% (252/349)   \rResolving deltas:  73% (256/349)   \rResolving deltas:  76% (268/349)   \rResolving deltas:  78% (274/349)   \rResolving deltas:  82% (288/349)   \rResolving deltas:  83% (292/349)   \rResolving deltas:  88% (308/349)   \rResolving deltas:  89% (312/349)   \rResolving deltas:  91% (318/349)   \rResolving deltas:  92% (322/349)   \rResolving deltas:  95% (335/349)   \rResolving deltas:  96% (336/349)   \rResolving deltas: 100% (349/349)   \rResolving deltas: 100% (349/349), done.\n"
          ],
          "name": "stdout"
        }
      ]
    },
    {
      "cell_type": "code",
      "metadata": {
        "id": "ePYbcM10uu75",
        "colab_type": "code",
        "colab": {
          "base_uri": "https://localhost:8080/",
          "height": 51
        },
        "outputId": "a15a5cf2-59fe-4598-dfb3-803a519af205"
      },
      "source": [
        "! pip install selenium"
      ],
      "execution_count": 3,
      "outputs": [
        {
          "output_type": "stream",
          "text": [
            "Requirement already satisfied: selenium in /usr/local/lib/python3.6/dist-packages (3.141.0)\n",
            "Requirement already satisfied: urllib3 in /usr/local/lib/python3.6/dist-packages (from selenium) (1.24.3)\n"
          ],
          "name": "stdout"
        }
      ]
    },
    {
      "cell_type": "code",
      "metadata": {
        "id": "IMorA_BzvXkI",
        "colab_type": "code",
        "colab": {
          "base_uri": "https://localhost:8080/",
          "height": 935
        },
        "outputId": "68f72dd1-18d5-4a15-f9fe-31e7356c5a9d"
      },
      "source": [
        "%cd google-images-download \n",
        "!python setup.py install"
      ],
      "execution_count": 7,
      "outputs": [
        {
          "output_type": "stream",
          "text": [
            "[Errno 2] No such file or directory: 'google-images-download'\n",
            "/content/google-images-download\n",
            "running install\n",
            "running bdist_egg\n",
            "running egg_info\n",
            "writing google_images_download.egg-info/PKG-INFO\n",
            "writing dependency_links to google_images_download.egg-info/dependency_links.txt\n",
            "writing entry points to google_images_download.egg-info/entry_points.txt\n",
            "writing requirements to google_images_download.egg-info/requires.txt\n",
            "writing top-level names to google_images_download.egg-info/top_level.txt\n",
            "reading manifest template 'MANIFEST.in'\n",
            "warning: no files found matching 'README.md'\n",
            "writing manifest file 'google_images_download.egg-info/SOURCES.txt'\n",
            "installing library code to build/bdist.linux-x86_64/egg\n",
            "running install_lib\n",
            "running build_py\n",
            "creating build/bdist.linux-x86_64/egg\n",
            "creating build/bdist.linux-x86_64/egg/google_images_download\n",
            "copying build/lib/google_images_download/__main__.py -> build/bdist.linux-x86_64/egg/google_images_download\n",
            "copying build/lib/google_images_download/sample_config.json -> build/bdist.linux-x86_64/egg/google_images_download\n",
            "copying build/lib/google_images_download/__init__.py -> build/bdist.linux-x86_64/egg/google_images_download\n",
            "copying build/lib/google_images_download/google_images_download.py -> build/bdist.linux-x86_64/egg/google_images_download\n",
            "byte-compiling build/bdist.linux-x86_64/egg/google_images_download/__main__.py to __main__.cpython-36.pyc\n",
            "byte-compiling build/bdist.linux-x86_64/egg/google_images_download/__init__.py to __init__.cpython-36.pyc\n",
            "byte-compiling build/bdist.linux-x86_64/egg/google_images_download/google_images_download.py to google_images_download.cpython-36.pyc\n",
            "creating build/bdist.linux-x86_64/egg/EGG-INFO\n",
            "copying google_images_download.egg-info/PKG-INFO -> build/bdist.linux-x86_64/egg/EGG-INFO\n",
            "copying google_images_download.egg-info/SOURCES.txt -> build/bdist.linux-x86_64/egg/EGG-INFO\n",
            "copying google_images_download.egg-info/dependency_links.txt -> build/bdist.linux-x86_64/egg/EGG-INFO\n",
            "copying google_images_download.egg-info/entry_points.txt -> build/bdist.linux-x86_64/egg/EGG-INFO\n",
            "copying google_images_download.egg-info/requires.txt -> build/bdist.linux-x86_64/egg/EGG-INFO\n",
            "copying google_images_download.egg-info/top_level.txt -> build/bdist.linux-x86_64/egg/EGG-INFO\n",
            "zip_safe flag not set; analyzing archive contents...\n",
            "creating 'dist/google_images_download-2.8.0-py3.6.egg' and adding 'build/bdist.linux-x86_64/egg' to it\n",
            "removing 'build/bdist.linux-x86_64/egg' (and everything under it)\n",
            "Processing google_images_download-2.8.0-py3.6.egg\n",
            "Removing /usr/local/lib/python3.6/dist-packages/google_images_download-2.8.0-py3.6.egg\n",
            "Copying google_images_download-2.8.0-py3.6.egg to /usr/local/lib/python3.6/dist-packages\n",
            "google-images-download 2.8.0 is already the active version in easy-install.pth\n",
            "Installing googleimagesdownload script to /usr/local/bin\n",
            "\n",
            "Installed /usr/local/lib/python3.6/dist-packages/google_images_download-2.8.0-py3.6.egg\n",
            "Processing dependencies for google-images-download==2.8.0\n",
            "Searching for selenium==3.141.0\n",
            "Best match: selenium 3.141.0\n",
            "Adding selenium 3.141.0 to easy-install.pth file\n",
            "\n",
            "Using /usr/local/lib/python3.6/dist-packages\n",
            "Searching for urllib3==1.24.3\n",
            "Best match: urllib3 1.24.3\n",
            "Adding urllib3 1.24.3 to easy-install.pth file\n",
            "\n",
            "Using /usr/local/lib/python3.6/dist-packages\n",
            "Finished processing dependencies for google-images-download==2.8.0\n"
          ],
          "name": "stdout"
        }
      ]
    },
    {
      "cell_type": "code",
      "metadata": {
        "id": "cAyKZRFO0A5J",
        "colab_type": "code",
        "colab": {
          "base_uri": "https://localhost:8080/",
          "height": 204
        },
        "outputId": "88ea4c3b-971e-48cc-a8d0-c88b8392350b"
      },
      "source": [
        "!wget https://chromedriver.storage.googleapis.com/78.0.3904.105/chromedriver_linux64.zip"
      ],
      "execution_count": 6,
      "outputs": [
        {
          "output_type": "stream",
          "text": [
            "--2019-11-19 13:18:17--  https://chromedriver.storage.googleapis.com/78.0.3904.105/chromedriver_linux64.zip\n",
            "Resolving chromedriver.storage.googleapis.com (chromedriver.storage.googleapis.com)... 172.217.218.128, 2a00:1450:4013:c03::80\n",
            "Connecting to chromedriver.storage.googleapis.com (chromedriver.storage.googleapis.com)|172.217.218.128|:443... connected.\n",
            "HTTP request sent, awaiting response... 200 OK\n",
            "Length: 5528166 (5.3M) [application/zip]\n",
            "Saving to: ‘chromedriver_linux64.zip’\n",
            "\n",
            "\rchromedriver_linux6   0%[                    ]       0  --.-KB/s               \rchromedriver_linux6 100%[===================>]   5.27M  --.-KB/s    in 0.04s   \n",
            "\n",
            "2019-11-19 13:18:18 (144 MB/s) - ‘chromedriver_linux64.zip’ saved [5528166/5528166]\n",
            "\n"
          ],
          "name": "stdout"
        }
      ]
    },
    {
      "cell_type": "code",
      "metadata": {
        "id": "aEnw8JzU1tIG",
        "colab_type": "code",
        "colab": {
          "base_uri": "https://localhost:8080/",
          "height": 51
        },
        "outputId": "380a6942-b256-439e-f9c7-1225a0ac0ee7"
      },
      "source": [
        "! unzip chromedriver_linux64.zip"
      ],
      "execution_count": 8,
      "outputs": [
        {
          "output_type": "stream",
          "text": [
            "Archive:  chromedriver_linux64.zip\n",
            "  inflating: chromedriver            \n"
          ],
          "name": "stdout"
        }
      ]
    },
    {
      "cell_type": "code",
      "metadata": {
        "id": "hcM5EHuq3BbE",
        "colab_type": "code",
        "colab": {}
      },
      "source": [
        "# importing google_images_download module \n",
        "from google_images_download import google_images_download \n",
        "\n",
        "# creating object \n",
        "response = google_images_download.googleimagesdownload()"
      ],
      "execution_count": 0,
      "outputs": []
    },
    {
      "cell_type": "code",
      "metadata": {
        "id": "cTSGneQAdJ_I",
        "colab_type": "code",
        "colab": {
          "base_uri": "https://localhost:8080/",
          "height": 34
        },
        "outputId": "55ea1cfd-ca5e-4c8a-9146-3ca1af5869ca"
      },
      "source": [
        "%cd /content/drive/My Drive/kinetics2/DatasetPreparation/1.Bombs"
      ],
      "execution_count": 10,
      "outputs": [
        {
          "output_type": "stream",
          "text": [
            "/content/drive/My Drive/kinetics2/DatasetPreparation/1.Bombs\n"
          ],
          "name": "stdout"
        }
      ]
    },
    {
      "cell_type": "code",
      "metadata": {
        "id": "tKdM33QM3OEa",
        "colab_type": "code",
        "colab": {}
      },
      "source": [
        "search_queries = [\n",
        "'Grenades.', \n",
        "'Guns.',\n",
        "'person holding guns.',\n",
        "'person hiding pistols.',\n",
        "'knives.',\n",
        "'person holding knives.',\n",
        "'throwing grenades.',\n",
        "'person holding time bombs.'\n",
        "] "
      ],
      "execution_count": 0,
      "outputs": []
    },
    {
      "cell_type": "markdown",
      "metadata": {
        "id": "C3FILo8tQEPK",
        "colab_type": "text"
      },
      "source": [
        "SharpObjects: blades, knives, compass, knives, "
      ]
    },
    {
      "cell_type": "code",
      "metadata": {
        "id": "Su2YghcU3Xdx",
        "colab_type": "code",
        "colab": {
          "base_uri": "https://localhost:8080/",
          "height": 251
        },
        "outputId": "6b715572-b894-4d8c-9041-265a9e57089c"
      },
      "source": [
        "def downloadimages(query): \n",
        "\t# keywords is the search query \n",
        "\t# format is the image file format \n",
        "\t# limit is the number of images to be downloaded \n",
        "\t# print urs is to print the image file url \n",
        "\t# size is the image size which can \n",
        "\t# be specified manually (\"large, medium, icon\") \n",
        "\t# aspect ratio denotes the height width ratio \n",
        "\t# of images to download. (\"tall, square, wide, panoramic\") \n",
        "\targuments = {\"keywords\": query, \n",
        "\t\t\t\t\"format\": \"jpg\", \n",
        "\t\t\t\t\"limit\":1000, \n",
        "\t\t\t\t\"print_urls\":True, \n",
        "\t\t\t\t\"size\": \"medium\", \n",
        "\t\t\t\t\"aspect_ratio\": \"panoramic\"} \n",
        "\ttry: \n",
        "\t\tresponse.download(arguments) \n",
        "\t\n",
        "\t# Handling File NotFound Error\t \n",
        "\texcept FileNotFoundError: \n",
        "\t\targuments = {\"keywords\": query, \n",
        "\t\t\t\t\t\"format\": \"jpg\", \n",
        "\t\t\t\t\t\"limit\":1000, \n",
        "\t\t\t\t\t\"print_urls\":True, \n",
        "\t\t\t\t\t\"size\": \"medium\",\n",
        "\t\t\t\t\t\"--chromedriver\" : \"/content/google-images-download/chromedriver\"} \n",
        "\t\t\t\t\t\n",
        "\t\t# Providing arguments for the searched query \n",
        "\t\ttry: \n",
        "\t\t\t# Downloading the photos based \n",
        "\t\t\t# on the given arguments \n",
        "\t\t\tresponse.download(arguments) \n",
        "\t\texcept: \n",
        "\t\t\tpass\n",
        "\n",
        "# Driver Code \n",
        "for query in search_queries: \n",
        "\tdownloadimages(query) \n",
        "\tprint() "
      ],
      "execution_count": 14,
      "outputs": [
        {
          "output_type": "stream",
          "text": [
            "\n",
            "Item no.: 1 --> Item name = Grenades.\n",
            "Evaluating...\n",
            "Looks like we cannot locate the path the 'chromedriver' (use the '--chromedriver' argument to specify the path to the executable.) or google chrome browser is not installed on your machine (exception: Message: Service /content/google-images-download/chromedriver unexpectedly exited. Status code was: -6\n",
            ")\n"
          ],
          "name": "stdout"
        },
        {
          "output_type": "error",
          "ename": "SystemExit",
          "evalue": "ignored",
          "traceback": [
            "An exception has occurred, use %tb to see the full traceback.\n",
            "\u001b[0;31mSystemExit\u001b[0m\n"
          ]
        },
        {
          "output_type": "stream",
          "text": [
            "/usr/local/lib/python3.6/dist-packages/IPython/core/interactiveshell.py:2890: UserWarning: To exit: use 'exit', 'quit', or Ctrl-D.\n",
            "  warn(\"To exit: use 'exit', 'quit', or Ctrl-D.\", stacklevel=1)\n"
          ],
          "name": "stderr"
        }
      ]
    },
    {
      "cell_type": "code",
      "metadata": {
        "id": "0sI65cQDcXco",
        "colab_type": "code",
        "colab": {
          "base_uri": "https://localhost:8080/",
          "height": 51
        },
        "outputId": "e7d5f8c4-07bb-4f15-f944-77a8a4feb6df"
      },
      "source": [
        "import glob\n",
        "!pip install pillow\n",
        "from PIL import Image"
      ],
      "execution_count": 19,
      "outputs": [
        {
          "output_type": "stream",
          "text": [
            "Requirement already satisfied: pillow in /usr/local/lib/python3.6/dist-packages (4.3.0)\n",
            "Requirement already satisfied: olefile in /usr/local/lib/python3.6/dist-packages (from pillow) (0.46)\n"
          ],
          "name": "stdout"
        }
      ]
    },
    {
      "cell_type": "code",
      "metadata": {
        "id": "55flIBVp224h",
        "colab_type": "code",
        "colab": {}
      },
      "source": [
        "# for file in glob.glob(\"*.png\"):\n",
        "#   im = Image.open(file)\n",
        "#   rgb_im = im.convert('RGB')\n",
        "#   rgb_im.save(file.replace(\"png\", \"jpg\"), quality=95)"
      ],
      "execution_count": 0,
      "outputs": []
    }
  ]
}